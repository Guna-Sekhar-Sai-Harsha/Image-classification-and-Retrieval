{
  "nbformat": 4,
  "nbformat_minor": 0,
  "metadata": {
    "colab": {
      "name": "Infrrd.ipynb",
      "provenance": [],
      "collapsed_sections": [
        "EpCFj-e9WSbD",
        "EDq6qnPv56Wd",
        "PCGRLSHwEBIr",
        "Mp0i3emlF43_",
        "suaqKzPiHZZw",
        "AcT-6vIyKcgv"
      ]
    },
    "kernelspec": {
      "name": "python3",
      "display_name": "Python 3"
    },
    "language_info": {
      "name": "python"
    },
    "accelerator": "GPU"
  },
  "cells": [
    {
      "cell_type": "code",
      "execution_count": 2,
      "metadata": {
        "id": "nmlj2rGWnIKl"
      },
      "outputs": [],
      "source": [
        "#import required libraries\n",
        "%matplotlib inline\n",
        "import matplotlib.pyplot as plt\n",
        "from PIL import Image\n",
        "import pandas as pd\n",
        "import numpy as np\n",
        "from numpy import array\n",
        "from numpy import argmax\n",
        "from sklearn.preprocessing import LabelEncoder\n",
        "from sklearn.preprocessing import OneHotEncoder\n",
        "from sklearn.model_selection import train_test_split\n",
        "from tensorflow.python.keras.layers import Dense,Conv2D,MaxPooling2D,GlobalMaxPooling2D,Flatten,Dropout\n",
        "from tensorflow.python.keras.models import Sequential\n",
        "import tensorflow as tf\n",
        "from keras.layers import Input"
      ]
    },
    {
      "cell_type": "markdown",
      "source": [
        "#Data Processing"
      ],
      "metadata": {
        "id": "EpCFj-e9WSbD"
      }
    },
    {
      "cell_type": "markdown",
      "source": [
        "##Loading the data"
      ],
      "metadata": {
        "id": "R7CCpNf5WdZE"
      }
    },
    {
      "cell_type": "code",
      "source": [
        "!cd /content/drive/MyDrive\n",
        "dataset=pd.read_csv('/content/drive/MyDrive/devanagiri.csv').fillna(value = 'notgiven')\n",
        "dataset=pd.DataFrame(dataset)\n"
      ],
      "metadata": {
        "id": "teVYCZJK504T"
      },
      "execution_count": 3,
      "outputs": []
    },
    {
      "cell_type": "code",
      "source": [
        "dataset.dtypes"
      ],
      "metadata": {
        "colab": {
          "base_uri": "https://localhost:8080/"
        },
        "id": "z1OUN4t0Wty2",
        "outputId": "bce64694-46cd-47fa-d5ac-1f3ab77cacb6"
      },
      "execution_count": 4,
      "outputs": [
        {
          "output_type": "execute_result",
          "data": {
            "text/plain": [
              "label     object\n",
              "x_0        int64\n",
              "x_1        int64\n",
              "x_2        int64\n",
              "x_3        int64\n",
              "           ...  \n",
              "x_3067     int64\n",
              "x_3068     int64\n",
              "x_3069     int64\n",
              "x_3070     int64\n",
              "x_3071     int64\n",
              "Length: 3073, dtype: object"
            ]
          },
          "metadata": {},
          "execution_count": 4
        }
      ]
    },
    {
      "cell_type": "code",
      "source": [
        "#Extracting label column from the dataset\n",
        "label=dataset[\"label\"].to_numpy()\n",
        "del dataset[\"label\"]\n",
        "label"
      ],
      "metadata": {
        "id": "h-WUWPyq5-Rr",
        "colab": {
          "base_uri": "https://localhost:8080/"
        },
        "outputId": "59fcb546-8364-4449-eaac-49fd8f756fa6"
      },
      "execution_count": 5,
      "outputs": [
        {
          "output_type": "execute_result",
          "data": {
            "text/plain": [
              "array(['i', 'ti', 'a', ..., 'ma', 'taa', 'va'], dtype=object)"
            ]
          },
          "metadata": {},
          "execution_count": 5
        }
      ]
    },
    {
      "cell_type": "code",
      "source": [
        "dataset.to_numpy(dtype='int')"
      ],
      "metadata": {
        "colab": {
          "base_uri": "https://localhost:8080/"
        },
        "id": "eafCaB796LdX",
        "outputId": "ddcf6014-bdd3-4037-ba6f-331de45e99ef"
      },
      "execution_count": 6,
      "outputs": [
        {
          "output_type": "execute_result",
          "data": {
            "text/plain": [
              "array([[211, 243, 254, ..., 213, 242, 247],\n",
              "       [201, 229, 236, ..., 204, 233, 242],\n",
              "       [214, 243, 252, ..., 192, 221, 230],\n",
              "       ...,\n",
              "       [192, 230, 246, ..., 194, 233, 248],\n",
              "       [193, 231, 247, ..., 190, 229, 244],\n",
              "       [201, 232, 249, ..., 195, 234, 249]])"
            ]
          },
          "metadata": {},
          "execution_count": 6
        }
      ]
    },
    {
      "cell_type": "code",
      "source": [
        "dataset=np.array(dataset).astype('int')"
      ],
      "metadata": {
        "id": "2SpS7XtZ6Qnw"
      },
      "execution_count": 7,
      "outputs": []
    },
    {
      "cell_type": "markdown",
      "source": [
        "##Visualizing the data"
      ],
      "metadata": {
        "id": "em9_hFASW2ki"
      }
    },
    {
      "cell_type": "code",
      "source": [
        "dataset.shape"
      ],
      "metadata": {
        "colab": {
          "base_uri": "https://localhost:8080/"
        },
        "id": "89jNtDxQ6ZBp",
        "outputId": "d18792db-9878-4904-b159-51ab6438a197"
      },
      "execution_count": 8,
      "outputs": [
        {
          "output_type": "execute_result",
          "data": {
            "text/plain": [
              "(7702, 3072)"
            ]
          },
          "metadata": {},
          "execution_count": 8
        }
      ]
    },
    {
      "cell_type": "code",
      "source": [
        "label.shape"
      ],
      "metadata": {
        "colab": {
          "base_uri": "https://localhost:8080/"
        },
        "id": "6RJTXrxiXIF2",
        "outputId": "4f3bd1b6-9906-4218-ba2c-b3b828d6435d"
      },
      "execution_count": 9,
      "outputs": [
        {
          "output_type": "execute_result",
          "data": {
            "text/plain": [
              "(7702,)"
            ]
          },
          "metadata": {},
          "execution_count": 9
        }
      ]
    },
    {
      "cell_type": "code",
      "source": [
        "dict={}\n",
        "count=0\n",
        "#range(start,stop,step)\n",
        "for i in range(0,7702,3072):\n",
        "    imarray=np.array(dataset[i].reshape(32,32,3))\n",
        "    dict.update({count:imarray}) \n",
        "    count=count+1\n",
        "    if count >= 7702:\n",
        "        break\n",
        "       \n",
        "figure, ax = plt.subplots(nrows=1,ncols=3,figsize=(10,10) )\n",
        "for ind,title in enumerate(dict):\n",
        "    ax.ravel()[ind].imshow(dict[title])\n",
        "    ax.ravel()[ind].set_title(title)\n",
        "    ax.ravel()[ind].set_axis_off()\n",
        "plt.tight_layout()\n",
        "plt.show()"
      ],
      "metadata": {
        "colab": {
          "base_uri": "https://localhost:8080/",
          "height": 54
        },
        "id": "-Jy6cpoH6e-0",
        "outputId": "c9f313d9-2711-4ba2-8e01-e30e207d57ab"
      },
      "execution_count": 10,
      "outputs": [
        {
          "output_type": "display_data",
          "data": {
            "image/png": "[encoded data removed]",
            "text/plain": [
              "<Figure size 720x720 with 3 Axes>"
            ]
          },
          "metadata": {
            "needs_background": "light"
          }
        }
      ]
    },
    {
      "cell_type": "markdown",
      "source": [
        "## One Hot encoding"
      ],
      "metadata": {
        "id": "smzGuKK5XUDT"
      }
    },
    {
      "cell_type": "code",
      "source": [
        "values = array(label)\n",
        "print(values)\n",
        "# integer encode\n",
        "label_encoder = LabelEncoder()\n",
        "integer_encoded = label_encoder.fit_transform(values)\n",
        "print(integer_encoded)\n",
        "# binary encode\n",
        "onehot_encoder = OneHotEncoder(sparse=False)\n",
        "integer_encoded = integer_encoded.reshape(len(integer_encoded), 1)\n",
        "onehot_encoded = onehot_encoder.fit_transform(integer_encoded)\n",
        "print(onehot_encoded)\n",
        "# invert first example\n",
        "inverted = label_encoder.inverse_transform([argmax(onehot_encoded[0, :])])\n",
        "print(inverted)"
      ],
      "metadata": {
        "colab": {
          "base_uri": "https://localhost:8080/"
        },
        "id": "JH2FMUpK74Z8",
        "outputId": "ccfa49c5-e21d-4dfc-c365-15a50989e8dd"
      },
      "execution_count": 11,
      "outputs": [
        {
          "output_type": "stream",
          "name": "stdout",
          "text": [
            "['i' 'ti' 'a' ... 'ma' 'taa' 'va']\n",
            "[195 504  83 ... 266 492 555]\n",
            "[[0. 0. 0. ... 0. 0. 0.]\n",
            " [0. 0. 0. ... 0. 0. 0.]\n",
            " [0. 0. 0. ... 0. 0. 0.]\n",
            " ...\n",
            " [0. 0. 0. ... 0. 0. 0.]\n",
            " [0. 0. 0. ... 0. 0. 0.]\n",
            " [0. 0. 0. ... 0. 0. 0.]]\n",
            "['i']\n"
          ]
        }
      ]
    },
    {
      "cell_type": "markdown",
      "source": [
        "## Splitting the data and reshaping the Train and Test set"
      ],
      "metadata": {
        "id": "HCunwVWBXoHO"
      }
    },
    {
      "cell_type": "code",
      "source": [
        "X_train, X_test, y_train, y_test=train_test_split(dataset.astype(\"float32\"),onehot_encoded, test_size=0.2, random_state=42) # Train and Test set \n",
        "X_train, X_val, y_train, y_val=train_test_split(X_train,y_train, test_size=0.1, random_state=42) # Train and Validation set\n",
        "X_train.shape,X_test.shape,X_val.shape,y_train.shape,y_test.shape,y_val.shape"
      ],
      "metadata": {
        "id": "AppIaGiV7x1l",
        "colab": {
          "base_uri": "https://localhost:8080/"
        },
        "outputId": "855ce086-5733-4bc2-adcb-9ea75e108c4c"
      },
      "execution_count": 12,
      "outputs": [
        {
          "output_type": "execute_result",
          "data": {
            "text/plain": [
              "((5544, 3072), (1541, 3072), (617, 3072), (5544, 602), (1541, 602), (617, 602))"
            ]
          },
          "metadata": {},
          "execution_count": 12
        }
      ]
    },
    {
      "cell_type": "code",
      "source": [
        "X_train=(X_train.reshape(5544,32,32,3))/255\n",
        "X_test=(X_test.reshape(1541,32,32,3))/255\n",
        "X_val=(X_val.reshape(617,32,32,3))/255"
      ],
      "metadata": {
        "id": "AwJXslxu8Umx"
      },
      "execution_count": 13,
      "outputs": []
    },
    {
      "cell_type": "code",
      "source": [
        "plt.imshow(X_train[44])"
      ],
      "metadata": {
        "colab": {
          "base_uri": "https://localhost:8080/",
          "height": 73
        },
        "id": "IWb_mppi83Zm",
        "outputId": "07da8e94-4aa8-4e41-de5c-cea5ead5291f"
      },
      "execution_count": 14,
      "outputs": [
        {
          "output_type": "execute_result",
          "data": {
            "text/plain": [
              "<matplotlib.image.AxesImage at 0x7f103d21ac50>"
            ]
          },
          "metadata": {},
          "execution_count": 14
        },
        {
          "output_type": "display_data",
          "data": {
            "image/png": "[encoded data removed]",
            "text/plain": [
              "<Figure size 432x288 with 1 Axes>"
            ]
          },
          "metadata": {
            "needs_background": "light"
          }
        }
      ]
    },
    {
      "cell_type": "code",
      "source": [
        "X_train.dtype"
      ],
      "metadata": {
        "colab": {
          "base_uri": "https://localhost:8080/"
        },
        "id": "UAQS_aZdgFVr",
        "outputId": "3455baa3-23db-4b56-8ded-c653735b854a"
      },
      "execution_count": 15,
      "outputs": [
        {
          "output_type": "execute_result",
          "data": {
            "text/plain": [
              "dtype('float32')"
            ]
          },
          "metadata": {},
          "execution_count": 15
        }
      ]
    },
    {
      "cell_type": "markdown",
      "source": [
        "# Problem Statement A"
      ],
      "metadata": {
        "id": "sj1awgyb13N6"
      }
    },
    {
      "cell_type": "markdown",
      "source": [
        "## Without Data Augumentation"
      ],
      "metadata": {
        "id": "d-0nCxNs5rHc"
      }
    },
    {
      "cell_type": "markdown",
      "source": [
        "### ANN"
      ],
      "metadata": {
        "id": "irrqKEH-5xZn"
      }
    },
    {
      "cell_type": "code",
      "source": [
        "# Model\n",
        "model0 = Sequential()\n",
        "\n",
        "model0.add(Dense(2,input_shape = (32,32,3),activation = 'relu'))\n",
        "model0.add(Dropout(0.4))\n",
        "model0.add(Flatten())\n",
        "model0.add(Dense(1024,activation='relu'))\n",
        "model0.add(Dropout(0.4))\n",
        "model0.add(Dense(602, activation='softmax'))\n",
        "model0.compile(loss='categorical_crossentropy', optimizer='adam', metrics=['acc'])\n",
        "model0.summary()"
      ],
      "metadata": {
        "colab": {
          "base_uri": "https://localhost:8080/"
        },
        "id": "R6b3fNNw3Ne6",
        "outputId": "ebf8fc05-e3a0-4651-e845-e886ad6f205b"
      },
      "execution_count": 45,
      "outputs": [
        {
          "output_type": "stream",
          "name": "stdout",
          "text": [
            "Model: \"sequential\"\n",
            "_________________________________________________________________\n",
            "Layer (type)                 Output Shape              Param #   \n",
            "=================================================================\n",
            "dense (Dense)                (None, 32, 32, 2)         8         \n",
            "_________________________________________________________________\n",
            "dropout (Dropout)            (None, 32, 32, 2)         0         \n",
            "_________________________________________________________________\n",
            "flatten (Flatten)            (None, 2048)              0         \n",
            "_________________________________________________________________\n",
            "dense_1 (Dense)              (None, 1024)              2098176   \n",
            "_________________________________________________________________\n",
            "dropout_1 (Dropout)          (None, 1024)              0         \n",
            "_________________________________________________________________\n",
            "dense_2 (Dense)              (None, 602)               617050    \n",
            "=================================================================\n",
            "Total params: 2,715,234\n",
            "Trainable params: 2,715,234\n",
            "Non-trainable params: 0\n",
            "_________________________________________________________________\n"
          ]
        }
      ]
    },
    {
      "cell_type": "code",
      "source": [
        "# Training the model\n",
        "history0=model0.fit(X_train,y_train,batch_size=50, epochs=100, validation_split=None,validation_data=(X_val,y_val))"
      ],
      "metadata": {
        "colab": {
          "base_uri": "https://localhost:8080/"
        },
        "id": "96jZOams30Ec",
        "outputId": "7513726d-94ee-45bd-8a77-e72fe4ca2834"
      },
      "execution_count": 50,
      "outputs": [
        {
          "output_type": "stream",
          "name": "stdout",
          "text": [
            "Epoch 1/20\n",
            "111/111 [==============================] - 1s 9ms/step - loss: 0.7118 - acc: 0.7962 - val_loss: 2.7007 - val_acc: 0.7699\n",
            "Epoch 2/20\n",
            "111/111 [==============================] - 1s 9ms/step - loss: 0.7259 - acc: 0.7897 - val_loss: 2.6641 - val_acc: 0.7650\n",
            "Epoch 3/20\n",
            "111/111 [==============================] - 1s 9ms/step - loss: 0.7106 - acc: 0.7940 - val_loss: 2.6631 - val_acc: 0.7682\n",
            "Epoch 4/20\n",
            "111/111 [==============================] - 1s 9ms/step - loss: 0.6853 - acc: 0.8025 - val_loss: 2.6550 - val_acc: 0.7666\n",
            "Epoch 5/20\n",
            "111/111 [==============================] - 1s 9ms/step - loss: 0.6992 - acc: 0.7946 - val_loss: 2.6759 - val_acc: 0.7536\n",
            "Epoch 6/20\n",
            "111/111 [==============================] - 1s 9ms/step - loss: 0.7023 - acc: 0.7958 - val_loss: 2.7548 - val_acc: 0.7666\n",
            "Epoch 7/20\n",
            "111/111 [==============================] - 1s 9ms/step - loss: 0.6997 - acc: 0.8025 - val_loss: 2.7899 - val_acc: 0.7682\n",
            "Epoch 8/20\n",
            "111/111 [==============================] - 1s 9ms/step - loss: 0.6850 - acc: 0.7969 - val_loss: 2.6842 - val_acc: 0.7634\n",
            "Epoch 9/20\n",
            "111/111 [==============================] - 1s 9ms/step - loss: 0.7203 - acc: 0.7926 - val_loss: 2.6369 - val_acc: 0.7682\n",
            "Epoch 10/20\n",
            "111/111 [==============================] - 1s 9ms/step - loss: 0.6719 - acc: 0.8019 - val_loss: 2.7158 - val_acc: 0.7747\n",
            "Epoch 11/20\n",
            "111/111 [==============================] - 1s 9ms/step - loss: 0.7133 - acc: 0.7960 - val_loss: 2.7081 - val_acc: 0.7682\n",
            "Epoch 12/20\n",
            "111/111 [==============================] - 1s 9ms/step - loss: 0.6887 - acc: 0.8003 - val_loss: 2.6953 - val_acc: 0.7715\n",
            "Epoch 13/20\n",
            "111/111 [==============================] - 1s 9ms/step - loss: 0.7105 - acc: 0.7933 - val_loss: 2.7327 - val_acc: 0.7715\n",
            "Epoch 14/20\n",
            "111/111 [==============================] - 1s 10ms/step - loss: 0.6749 - acc: 0.8009 - val_loss: 2.8000 - val_acc: 0.7666\n",
            "Epoch 15/20\n",
            "111/111 [==============================] - 1s 9ms/step - loss: 0.6879 - acc: 0.7964 - val_loss: 2.6795 - val_acc: 0.7650\n",
            "Epoch 16/20\n",
            "111/111 [==============================] - 1s 9ms/step - loss: 0.6897 - acc: 0.8038 - val_loss: 2.6982 - val_acc: 0.7666\n",
            "Epoch 17/20\n",
            "111/111 [==============================] - 1s 9ms/step - loss: 0.6518 - acc: 0.8077 - val_loss: 2.8030 - val_acc: 0.7553\n",
            "Epoch 18/20\n",
            "111/111 [==============================] - 1s 9ms/step - loss: 0.6570 - acc: 0.8061 - val_loss: 2.8277 - val_acc: 0.7682\n",
            "Epoch 19/20\n",
            "111/111 [==============================] - 1s 9ms/step - loss: 0.6702 - acc: 0.8063 - val_loss: 2.7674 - val_acc: 0.7666\n",
            "Epoch 20/20\n",
            "111/111 [==============================] - 1s 9ms/step - loss: 0.6674 - acc: 0.8047 - val_loss: 2.8315 - val_acc: 0.7585\n"
          ]
        }
      ]
    },
    {
      "cell_type": "code",
      "source": [
        "# EValuating th emodel\n",
        "model0.evaluate(\n",
        "    x=X_test,\n",
        "    y=y_test,\n",
        "    batch_size=None,\n",
        "    verbose=1,\n",
        "    sample_weight=None,\n",
        "    steps=None,\n",
        "    callbacks=None,\n",
        "    max_queue_size=10,\n",
        "    workers=1,\n",
        "    use_multiprocessing=False,\n",
        "    return_dict=False,\n",
        "    #**kwargs\n",
        ")"
      ],
      "metadata": {
        "colab": {
          "base_uri": "https://localhost:8080/"
        },
        "id": "rvWTu7D8DUUi",
        "outputId": "65a75208-d29a-41bb-ad5c-8f3bcb65c9a7"
      },
      "execution_count": 51,
      "outputs": [
        {
          "output_type": "stream",
          "name": "stdout",
          "text": [
            "49/49 [==============================] - 0s 5ms/step - loss: 2.8131 - acc: 0.7592\n"
          ]
        },
        {
          "output_type": "execute_result",
          "data": {
            "text/plain": [
              "[2.8131301403045654, 0.7592472434043884]"
            ]
          },
          "metadata": {},
          "execution_count": 51
        }
      ]
    },
    {
      "cell_type": "markdown",
      "source": [
        "### CNN"
      ],
      "metadata": {
        "id": "EDq6qnPv56Wd"
      }
    },
    {
      "cell_type": "code",
      "source": [
        "# Model\n",
        "model1 = Sequential()\n",
        "\n",
        "model1.add(Conv2D(64,(3,3),input_shape = (32,32,3),activation = 'relu'))\n",
        "model1.add(MaxPooling2D(pool_size=(2,2)))\n",
        "\n",
        "model1.add(Conv2D(128,(3,3),activation = 'relu'))\n",
        "model1.add(MaxPooling2D(pool_size=(2,2)))\n",
        "model1.add(Dropout(0.2))\n",
        "\n",
        "model1.add(Flatten())\n",
        "model1.add(Dense(1024,activation='relu'))\n",
        "model1.add(Dense(602, activation='softmax'))\n",
        "model1.compile(loss='categorical_crossentropy', optimizer='adam', metrics=['acc'])\n",
        "model1.summary()"
      ],
      "metadata": {
        "id": "Gziu_PA70PUe",
        "colab": {
          "base_uri": "https://localhost:8080/"
        },
        "outputId": "44a9950c-6462-46d8-bd23-0df4398c7336"
      },
      "execution_count": 16,
      "outputs": [
        {
          "output_type": "stream",
          "name": "stdout",
          "text": [
            "Model: \"sequential\"\n",
            "_________________________________________________________________\n",
            "Layer (type)                 Output Shape              Param #   \n",
            "=================================================================\n",
            "conv2d (Conv2D)              (None, 30, 30, 64)        1792      \n",
            "_________________________________________________________________\n",
            "max_pooling2d (MaxPooling2D) (None, 15, 15, 64)        0         \n",
            "_________________________________________________________________\n",
            "conv2d_1 (Conv2D)            (None, 13, 13, 128)       73856     \n",
            "_________________________________________________________________\n",
            "max_pooling2d_1 (MaxPooling2 (None, 6, 6, 128)         0         \n",
            "_________________________________________________________________\n",
            "dropout (Dropout)            (None, 6, 6, 128)         0         \n",
            "_________________________________________________________________\n",
            "flatten (Flatten)            (None, 4608)              0         \n",
            "_________________________________________________________________\n",
            "dense (Dense)                (None, 1024)              4719616   \n",
            "_________________________________________________________________\n",
            "dense_1 (Dense)              (None, 602)               617050    \n",
            "=================================================================\n",
            "Total params: 5,412,314\n",
            "Trainable params: 5,412,314\n",
            "Non-trainable params: 0\n",
            "_________________________________________________________________\n"
          ]
        }
      ]
    },
    {
      "cell_type": "code",
      "source": [
        "# Training the model\n",
        "history1=model1.fit(X_train,y_train,batch_size=50, epochs=20, validation_split=None,validation_data=(X_val,y_val))"
      ],
      "metadata": {
        "colab": {
          "base_uri": "https://localhost:8080/"
        },
        "id": "fUeHnJNx11x6",
        "outputId": "7269f63e-3a56-49d4-8672-ac104c983dea"
      },
      "execution_count": 17,
      "outputs": [
        {
          "output_type": "stream",
          "name": "stdout",
          "text": [
            "Epoch 1/20\n",
            "111/111 [==============================] - 15s 18ms/step - loss: 4.9813 - acc: 0.1219 - val_loss: 3.9799 - val_acc: 0.2982\n",
            "Epoch 2/20\n",
            "111/111 [==============================] - 2s 14ms/step - loss: 3.1849 - acc: 0.4069 - val_loss: 2.7572 - val_acc: 0.5316\n",
            "Epoch 3/20\n",
            "111/111 [==============================] - 1s 13ms/step - loss: 2.0231 - acc: 0.6109 - val_loss: 2.2057 - val_acc: 0.6402\n",
            "Epoch 4/20\n",
            "111/111 [==============================] - 1s 13ms/step - loss: 1.2779 - acc: 0.7370 - val_loss: 1.8958 - val_acc: 0.7196\n",
            "Epoch 5/20\n",
            "111/111 [==============================] - 1s 13ms/step - loss: 0.8712 - acc: 0.8030 - val_loss: 1.9438 - val_acc: 0.7455\n",
            "Epoch 6/20\n",
            "111/111 [==============================] - 2s 14ms/step - loss: 0.6167 - acc: 0.8519 - val_loss: 1.8809 - val_acc: 0.7536\n",
            "Epoch 7/20\n",
            "111/111 [==============================] - 1s 13ms/step - loss: 0.4456 - acc: 0.8909 - val_loss: 1.8700 - val_acc: 0.7601\n",
            "Epoch 8/20\n",
            "111/111 [==============================] - 1s 13ms/step - loss: 0.3581 - acc: 0.9131 - val_loss: 2.0760 - val_acc: 0.7601\n",
            "Epoch 9/20\n",
            "111/111 [==============================] - 1s 13ms/step - loss: 0.2984 - acc: 0.9271 - val_loss: 2.1192 - val_acc: 0.7618\n",
            "Epoch 10/20\n",
            "111/111 [==============================] - 1s 13ms/step - loss: 0.2340 - acc: 0.9352 - val_loss: 2.0974 - val_acc: 0.7601\n",
            "Epoch 11/20\n",
            "111/111 [==============================] - 1s 13ms/step - loss: 0.2010 - acc: 0.9452 - val_loss: 2.2138 - val_acc: 0.7634\n",
            "Epoch 12/20\n",
            "111/111 [==============================] - 1s 13ms/step - loss: 0.1853 - acc: 0.9529 - val_loss: 2.1907 - val_acc: 0.7796\n",
            "Epoch 13/20\n",
            "111/111 [==============================] - 1s 13ms/step - loss: 0.1825 - acc: 0.9506 - val_loss: 2.2981 - val_acc: 0.7699\n",
            "Epoch 14/20\n",
            "111/111 [==============================] - 1s 13ms/step - loss: 0.1612 - acc: 0.9592 - val_loss: 2.2867 - val_acc: 0.7763\n",
            "Epoch 15/20\n",
            "111/111 [==============================] - 1s 13ms/step - loss: 0.1368 - acc: 0.9677 - val_loss: 2.2803 - val_acc: 0.7682\n",
            "Epoch 16/20\n",
            "111/111 [==============================] - 1s 12ms/step - loss: 0.1328 - acc: 0.9670 - val_loss: 2.3830 - val_acc: 0.7877\n",
            "Epoch 17/20\n",
            "111/111 [==============================] - 1s 13ms/step - loss: 0.1223 - acc: 0.9672 - val_loss: 2.3274 - val_acc: 0.7682\n",
            "Epoch 18/20\n",
            "111/111 [==============================] - 1s 13ms/step - loss: 0.1127 - acc: 0.9697 - val_loss: 2.1843 - val_acc: 0.7650\n",
            "Epoch 19/20\n",
            "111/111 [==============================] - 1s 13ms/step - loss: 0.1222 - acc: 0.9655 - val_loss: 2.4423 - val_acc: 0.7893\n",
            "Epoch 20/20\n",
            "111/111 [==============================] - 1s 13ms/step - loss: 0.0985 - acc: 0.9746 - val_loss: 2.2918 - val_acc: 0.7844\n"
          ]
        }
      ]
    },
    {
      "cell_type": "code",
      "source": [
        "# Evaluating the model\n",
        "model1.evaluate(\n",
        "    x=X_test,\n",
        "    y=y_test,\n",
        "    batch_size=None,\n",
        "    verbose=1,\n",
        "    sample_weight=None,\n",
        "    steps=None,\n",
        "    callbacks=None,\n",
        "    max_queue_size=10,\n",
        "    workers=1,\n",
        "    use_multiprocessing=False,\n",
        "    return_dict=False,\n",
        "    #**kwargs\n",
        ")"
      ],
      "metadata": {
        "colab": {
          "base_uri": "https://localhost:8080/"
        },
        "id": "mDNeW69hDhJY",
        "outputId": "08c9acc9-d9d6-4113-e869-b88e84483b9f"
      },
      "execution_count": 19,
      "outputs": [
        {
          "output_type": "stream",
          "name": "stdout",
          "text": [
            "49/49 [==============================] - 0s 6ms/step - loss: 2.3833 - acc: 0.7846\n"
          ]
        },
        {
          "output_type": "execute_result",
          "data": {
            "text/plain": [
              "[2.3832919597625732, 0.7845554947853088]"
            ]
          },
          "metadata": {},
          "execution_count": 19
        }
      ]
    },
    {
      "cell_type": "markdown",
      "source": [
        "### SVM"
      ],
      "metadata": {
        "id": "PCGRLSHwEBIr"
      }
    },
    {
      "cell_type": "code",
      "source": [
        "from tensorflow.keras.regularizers import l2\n",
        "model2 = Sequential()\n",
        "\n",
        "model2.add(Conv2D(64,(3,3),input_shape = (32,32,3),activation = 'relu'))\n",
        "model2.add(MaxPooling2D(pool_size=(2,2)))\n",
        "\n",
        "model2.add(Conv2D(128,(3,3),activation = 'relu'))\n",
        "model2.add(MaxPooling2D(pool_size=(2,2)))\n",
        "model2.add(Dropout(0.2))\n",
        "\n",
        "model2.add(Flatten())\n",
        "model2.add(Dense(1024,activation='relu'))\n",
        "model2.add(Dense(602, kernel_regularizer = l2(0.01), activation='softmax'))\n",
        "model2.compile(optimizer='adam',loss='squared_hinge', metrics = ['accuracy'])\n",
        "model2.summary()\n"
      ],
      "metadata": {
        "colab": {
          "base_uri": "https://localhost:8080/"
        },
        "id": "59KSQlA26cCt",
        "outputId": "42dc6fe6-23d3-4489-d16e-627c68f3d5ae"
      },
      "execution_count": 98,
      "outputs": [
        {
          "output_type": "stream",
          "name": "stdout",
          "text": [
            "Model: \"sequential_21\"\n",
            "_________________________________________________________________\n",
            "Layer (type)                 Output Shape              Param #   \n",
            "=================================================================\n",
            "conv2d_34 (Conv2D)           (None, 30, 30, 64)        1792      \n",
            "_________________________________________________________________\n",
            "max_pooling2d_34 (MaxPooling (None, 15, 15, 64)        0         \n",
            "_________________________________________________________________\n",
            "conv2d_35 (Conv2D)           (None, 13, 13, 128)       73856     \n",
            "_________________________________________________________________\n",
            "max_pooling2d_35 (MaxPooling (None, 6, 6, 128)         0         \n",
            "_________________________________________________________________\n",
            "dropout_24 (Dropout)         (None, 6, 6, 128)         0         \n",
            "_________________________________________________________________\n",
            "flatten_21 (Flatten)         (None, 4608)              0         \n",
            "_________________________________________________________________\n",
            "dense_44 (Dense)             (None, 1024)              4719616   \n",
            "_________________________________________________________________\n",
            "dense_45 (Dense)             (None, 602)               617050    \n",
            "=================================================================\n",
            "Total params: 5,412,314\n",
            "Trainable params: 5,412,314\n",
            "Non-trainable params: 0\n",
            "_________________________________________________________________\n"
          ]
        }
      ]
    },
    {
      "cell_type": "code",
      "source": [
        "# Training the model\n",
        "history2=model2.fit(X_train,y_train,batch_size=50, epochs=500, validation_split=None,validation_data=(X_val,y_val))"
      ],
      "metadata": {
        "colab": {
          "base_uri": "https://localhost:8080/"
        },
        "id": "d_kJSMSuFIXX",
        "outputId": "29409453-7ff9-4979-f2fa-4f61956645f3"
      },
      "execution_count": 99,
      "outputs": [
        {
          "output_type": "stream",
          "name": "stdout",
          "text": [
            "Epoch 1/500\n",
            "111/111 [==============================] - 2s 15ms/step - loss: 2.1672 - accuracy: 0.0287 - val_loss: 1.0035 - val_accuracy: 0.0405\n",
            "Epoch 2/500\n",
            "111/111 [==============================] - 1s 13ms/step - loss: 1.0033 - accuracy: 0.0400 - val_loss: 1.0033 - val_accuracy: 0.0405\n",
            "Epoch 3/500\n",
            "111/111 [==============================] - 1s 13ms/step - loss: 1.0033 - accuracy: 0.0400 - val_loss: 1.0033 - val_accuracy: 0.0405\n",
            "Epoch 4/500\n",
            "111/111 [==============================] - 1s 13ms/step - loss: 1.0033 - accuracy: 0.0400 - val_loss: 1.0033 - val_accuracy: 0.0405\n",
            "Epoch 5/500\n",
            "111/111 [==============================] - 1s 13ms/step - loss: 1.0033 - accuracy: 0.0400 - val_loss: 1.0033 - val_accuracy: 0.0405\n",
            "Epoch 6/500\n",
            "111/111 [==============================] - 1s 13ms/step - loss: 1.0033 - accuracy: 0.0400 - val_loss: 1.0033 - val_accuracy: 0.0405\n",
            "Epoch 7/500\n",
            "111/111 [==============================] - 1s 13ms/step - loss: 1.0033 - accuracy: 0.0400 - val_loss: 1.0033 - val_accuracy: 0.0405\n",
            "Epoch 8/500\n",
            "111/111 [==============================] - 1s 13ms/step - loss: 1.0033 - accuracy: 0.0400 - val_loss: 1.0033 - val_accuracy: 0.0405\n",
            "Epoch 9/500\n",
            "111/111 [==============================] - 1s 13ms/step - loss: 1.0033 - accuracy: 0.0409 - val_loss: 1.0033 - val_accuracy: 0.0405\n",
            "Epoch 10/500\n",
            "111/111 [==============================] - 1s 13ms/step - loss: 1.0033 - accuracy: 0.0332 - val_loss: 1.0033 - val_accuracy: 0.0470\n",
            "Epoch 11/500\n",
            "111/111 [==============================] - 1s 13ms/step - loss: 1.0033 - accuracy: 0.0355 - val_loss: 1.0033 - val_accuracy: 0.0470\n",
            "Epoch 12/500\n",
            "111/111 [==============================] - 1s 13ms/step - loss: 1.0033 - accuracy: 0.0355 - val_loss: 1.0033 - val_accuracy: 0.0470\n",
            "Epoch 13/500\n",
            "111/111 [==============================] - 1s 13ms/step - loss: 1.0033 - accuracy: 0.0355 - val_loss: 1.0033 - val_accuracy: 0.0470\n",
            "Epoch 14/500\n",
            "111/111 [==============================] - 1s 13ms/step - loss: 1.0033 - accuracy: 0.0355 - val_loss: 1.0033 - val_accuracy: 0.0470\n",
            "Epoch 15/500\n",
            "111/111 [==============================] - 1s 13ms/step - loss: 1.0033 - accuracy: 0.0355 - val_loss: 1.0033 - val_accuracy: 0.0470\n",
            "Epoch 16/500\n",
            "111/111 [==============================] - 1s 13ms/step - loss: 1.0033 - accuracy: 0.0355 - val_loss: 1.0033 - val_accuracy: 0.0470\n",
            "Epoch 17/500\n",
            "111/111 [==============================] - 1s 13ms/step - loss: 1.0033 - accuracy: 0.0355 - val_loss: 1.0033 - val_accuracy: 0.0470\n",
            "Epoch 18/500\n",
            "111/111 [==============================] - 1s 13ms/step - loss: 1.0033 - accuracy: 0.0355 - val_loss: 1.0033 - val_accuracy: 0.0470\n",
            "Epoch 19/500\n",
            "111/111 [==============================] - 1s 13ms/step - loss: 1.0033 - accuracy: 0.0355 - val_loss: 1.0033 - val_accuracy: 0.0470\n",
            "Epoch 20/500\n",
            "111/111 [==============================] - 1s 13ms/step - loss: 1.0033 - accuracy: 0.0355 - val_loss: 1.0033 - val_accuracy: 0.0470\n",
            "Epoch 21/500\n",
            "111/111 [==============================] - 1s 13ms/step - loss: 1.0033 - accuracy: 0.0355 - val_loss: 1.0033 - val_accuracy: 0.0470\n",
            "Epoch 22/500\n",
            "111/111 [==============================] - 1s 13ms/step - loss: 1.0033 - accuracy: 0.0355 - val_loss: 1.0033 - val_accuracy: 0.0470\n",
            "Epoch 23/500\n",
            "111/111 [==============================] - 1s 13ms/step - loss: 1.0033 - accuracy: 0.0308 - val_loss: 1.0033 - val_accuracy: 0.0470\n",
            "Epoch 24/500\n",
            "111/111 [==============================] - 1s 13ms/step - loss: 1.0033 - accuracy: 0.0364 - val_loss: 1.0033 - val_accuracy: 0.0470\n",
            "Epoch 25/500\n",
            "111/111 [==============================] - 1s 13ms/step - loss: 1.0033 - accuracy: 0.0319 - val_loss: 1.0033 - val_accuracy: 0.0470\n",
            "Epoch 26/500\n",
            "111/111 [==============================] - 1s 13ms/step - loss: 1.0033 - accuracy: 0.0319 - val_loss: 1.0033 - val_accuracy: 0.0373\n",
            "Epoch 27/500\n",
            "111/111 [==============================] - 1s 13ms/step - loss: 1.0033 - accuracy: 0.0352 - val_loss: 1.0033 - val_accuracy: 0.0373\n",
            "Epoch 28/500\n",
            "111/111 [==============================] - 1s 13ms/step - loss: 1.0033 - accuracy: 0.0341 - val_loss: 1.0033 - val_accuracy: 0.0405\n",
            "Epoch 29/500\n",
            "111/111 [==============================] - 1s 13ms/step - loss: 1.0033 - accuracy: 0.0326 - val_loss: 1.0033 - val_accuracy: 0.0405\n",
            "Epoch 30/500\n",
            "111/111 [==============================] - 1s 13ms/step - loss: 1.0033 - accuracy: 0.0323 - val_loss: 1.0033 - val_accuracy: 0.0324\n",
            "Epoch 31/500\n",
            "111/111 [==============================] - 2s 14ms/step - loss: 1.0033 - accuracy: 0.0386 - val_loss: 1.0033 - val_accuracy: 0.0405\n",
            "Epoch 32/500\n",
            "111/111 [==============================] - 1s 13ms/step - loss: 1.0033 - accuracy: 0.0366 - val_loss: 1.0033 - val_accuracy: 0.0470\n",
            "Epoch 33/500\n",
            "111/111 [==============================] - 1s 13ms/step - loss: 1.0033 - accuracy: 0.0366 - val_loss: 1.0033 - val_accuracy: 0.0373\n",
            "Epoch 34/500\n",
            "111/111 [==============================] - 1s 13ms/step - loss: 1.0033 - accuracy: 0.0382 - val_loss: 1.0033 - val_accuracy: 0.0373\n",
            "Epoch 35/500\n",
            "111/111 [==============================] - 1s 13ms/step - loss: 1.0033 - accuracy: 0.0348 - val_loss: 1.0033 - val_accuracy: 0.0227\n",
            "Epoch 36/500\n",
            "111/111 [==============================] - 1s 13ms/step - loss: 1.0033 - accuracy: 0.0359 - val_loss: 1.0033 - val_accuracy: 0.0324\n",
            "Epoch 37/500\n",
            "111/111 [==============================] - 1s 13ms/step - loss: 1.0033 - accuracy: 0.0357 - val_loss: 1.0033 - val_accuracy: 0.0470\n",
            "Epoch 38/500\n",
            "111/111 [==============================] - 1s 13ms/step - loss: 1.0033 - accuracy: 0.0418 - val_loss: 1.0033 - val_accuracy: 0.0292\n",
            "Epoch 39/500\n",
            "111/111 [==============================] - 1s 13ms/step - loss: 1.0033 - accuracy: 0.0483 - val_loss: 1.0033 - val_accuracy: 0.0373\n",
            "Epoch 40/500\n",
            "111/111 [==============================] - 1s 13ms/step - loss: 1.0032 - accuracy: 0.0597 - val_loss: 1.0032 - val_accuracy: 0.0616\n",
            "Epoch 41/500\n",
            "111/111 [==============================] - 1s 13ms/step - loss: 1.0032 - accuracy: 0.0588 - val_loss: 1.0032 - val_accuracy: 0.0519\n",
            "Epoch 42/500\n",
            "111/111 [==============================] - 1s 13ms/step - loss: 1.0031 - accuracy: 0.0637 - val_loss: 1.0031 - val_accuracy: 0.0697\n",
            "Epoch 43/500\n",
            "111/111 [==============================] - 1s 13ms/step - loss: 1.0031 - accuracy: 0.0772 - val_loss: 1.0032 - val_accuracy: 0.0697\n",
            "Epoch 44/500\n",
            "111/111 [==============================] - 1s 13ms/step - loss: 1.0031 - accuracy: 0.1014 - val_loss: 1.0030 - val_accuracy: 0.1329\n",
            "Epoch 45/500\n",
            "111/111 [==============================] - 1s 13ms/step - loss: 1.0030 - accuracy: 0.1093 - val_loss: 1.0030 - val_accuracy: 0.1151\n",
            "Epoch 46/500\n",
            "111/111 [==============================] - 1s 13ms/step - loss: 1.0030 - accuracy: 0.1135 - val_loss: 1.0030 - val_accuracy: 0.1151\n",
            "Epoch 47/500\n",
            "111/111 [==============================] - 1s 13ms/step - loss: 1.0029 - accuracy: 0.1234 - val_loss: 1.0030 - val_accuracy: 0.1264\n",
            "Epoch 48/500\n",
            "111/111 [==============================] - 1s 13ms/step - loss: 1.0029 - accuracy: 0.1441 - val_loss: 1.0028 - val_accuracy: 0.1669\n",
            "Epoch 49/500\n",
            "111/111 [==============================] - 1s 13ms/step - loss: 1.0028 - accuracy: 0.1557 - val_loss: 1.0028 - val_accuracy: 0.1524\n",
            "Epoch 50/500\n",
            "111/111 [==============================] - 1s 13ms/step - loss: 1.0028 - accuracy: 0.1622 - val_loss: 1.0028 - val_accuracy: 0.1718\n",
            "Epoch 51/500\n",
            "111/111 [==============================] - 1s 13ms/step - loss: 1.0028 - accuracy: 0.1667 - val_loss: 1.0028 - val_accuracy: 0.1718\n",
            "Epoch 52/500\n",
            "111/111 [==============================] - 1s 13ms/step - loss: 1.0027 - accuracy: 0.1665 - val_loss: 1.0028 - val_accuracy: 0.1718\n",
            "Epoch 53/500\n",
            "111/111 [==============================] - 1s 13ms/step - loss: 1.0027 - accuracy: 0.1788 - val_loss: 1.0026 - val_accuracy: 0.2156\n",
            "Epoch 54/500\n",
            "111/111 [==============================] - 1s 13ms/step - loss: 1.0026 - accuracy: 0.1851 - val_loss: 1.0026 - val_accuracy: 0.1880\n",
            "Epoch 55/500\n",
            "111/111 [==============================] - 1s 13ms/step - loss: 1.0026 - accuracy: 0.1923 - val_loss: 1.0025 - val_accuracy: 0.2237\n",
            "Epoch 56/500\n",
            "111/111 [==============================] - 2s 14ms/step - loss: 1.0026 - accuracy: 0.2065 - val_loss: 1.0025 - val_accuracy: 0.2496\n",
            "Epoch 57/500\n",
            "111/111 [==============================] - 1s 13ms/step - loss: 1.0025 - accuracy: 0.2141 - val_loss: 1.0024 - val_accuracy: 0.2334\n",
            "Epoch 58/500\n",
            "111/111 [==============================] - 1s 13ms/step - loss: 1.0025 - accuracy: 0.2174 - val_loss: 1.0024 - val_accuracy: 0.2318\n",
            "Epoch 59/500\n",
            "111/111 [==============================] - 1s 13ms/step - loss: 1.0025 - accuracy: 0.2179 - val_loss: 1.0024 - val_accuracy: 0.2334\n",
            "Epoch 60/500\n",
            "111/111 [==============================] - 1s 13ms/step - loss: 1.0024 - accuracy: 0.2197 - val_loss: 1.0024 - val_accuracy: 0.2318\n",
            "Epoch 61/500\n",
            "111/111 [==============================] - 1s 13ms/step - loss: 1.0024 - accuracy: 0.2206 - val_loss: 1.0024 - val_accuracy: 0.2334\n",
            "Epoch 62/500\n",
            "111/111 [==============================] - 1s 13ms/step - loss: 1.0024 - accuracy: 0.2226 - val_loss: 1.0024 - val_accuracy: 0.2577\n",
            "Epoch 63/500\n",
            "111/111 [==============================] - 1s 13ms/step - loss: 1.0024 - accuracy: 0.2226 - val_loss: 1.0024 - val_accuracy: 0.2350\n",
            "Epoch 64/500\n",
            "111/111 [==============================] - 2s 14ms/step - loss: 1.0024 - accuracy: 0.2415 - val_loss: 1.0023 - val_accuracy: 0.2707\n",
            "Epoch 65/500\n",
            "111/111 [==============================] - 1s 13ms/step - loss: 1.0023 - accuracy: 0.2608 - val_loss: 1.0023 - val_accuracy: 0.2707\n",
            "Epoch 66/500\n",
            "111/111 [==============================] - 1s 13ms/step - loss: 1.0023 - accuracy: 0.2653 - val_loss: 1.0022 - val_accuracy: 0.2674\n",
            "Epoch 67/500\n",
            "111/111 [==============================] - 1s 13ms/step - loss: 1.0023 - accuracy: 0.2668 - val_loss: 1.0023 - val_accuracy: 0.2642\n",
            "Epoch 68/500\n",
            "111/111 [==============================] - 1s 13ms/step - loss: 1.0022 - accuracy: 0.2670 - val_loss: 1.0022 - val_accuracy: 0.2755\n",
            "Epoch 69/500\n",
            "111/111 [==============================] - 1s 13ms/step - loss: 1.0022 - accuracy: 0.2686 - val_loss: 1.0022 - val_accuracy: 0.2755\n",
            "Epoch 70/500\n",
            "111/111 [==============================] - 1s 13ms/step - loss: 1.0022 - accuracy: 0.2697 - val_loss: 1.0022 - val_accuracy: 0.2723\n",
            "Epoch 71/500\n",
            "111/111 [==============================] - 1s 13ms/step - loss: 1.0022 - accuracy: 0.2686 - val_loss: 1.0022 - val_accuracy: 0.2707\n",
            "Epoch 72/500\n",
            "111/111 [==============================] - 1s 13ms/step - loss: 1.0022 - accuracy: 0.2684 - val_loss: 1.0022 - val_accuracy: 0.2739\n",
            "Epoch 73/500\n",
            "111/111 [==============================] - 1s 13ms/step - loss: 1.0022 - accuracy: 0.2700 - val_loss: 1.0022 - val_accuracy: 0.2723\n",
            "Epoch 74/500\n",
            "111/111 [==============================] - 1s 13ms/step - loss: 1.0022 - accuracy: 0.2716 - val_loss: 1.0022 - val_accuracy: 0.2771\n",
            "Epoch 75/500\n",
            "111/111 [==============================] - 1s 13ms/step - loss: 1.0022 - accuracy: 0.2677 - val_loss: 1.0022 - val_accuracy: 0.2739\n",
            "Epoch 76/500\n",
            "111/111 [==============================] - 1s 13ms/step - loss: 1.0022 - accuracy: 0.2722 - val_loss: 1.0022 - val_accuracy: 0.2820\n",
            "Epoch 77/500\n",
            "111/111 [==============================] - 1s 13ms/step - loss: 1.0022 - accuracy: 0.2790 - val_loss: 1.0022 - val_accuracy: 0.2788\n",
            "Epoch 78/500\n",
            "111/111 [==============================] - 1s 13ms/step - loss: 1.0022 - accuracy: 0.2843 - val_loss: 1.0021 - val_accuracy: 0.2885\n",
            "Epoch 79/500\n",
            "111/111 [==============================] - 1s 13ms/step - loss: 1.0021 - accuracy: 0.2816 - val_loss: 1.0021 - val_accuracy: 0.2901\n",
            "Epoch 80/500\n",
            "111/111 [==============================] - 1s 13ms/step - loss: 1.0021 - accuracy: 0.2835 - val_loss: 1.0021 - val_accuracy: 0.2885\n",
            "Epoch 81/500\n",
            "111/111 [==============================] - 1s 13ms/step - loss: 1.0021 - accuracy: 0.2877 - val_loss: 1.0021 - val_accuracy: 0.2885\n",
            "Epoch 82/500\n",
            "111/111 [==============================] - 1s 13ms/step - loss: 1.0021 - accuracy: 0.2868 - val_loss: 1.0021 - val_accuracy: 0.2982\n",
            "Epoch 83/500\n",
            "111/111 [==============================] - 1s 13ms/step - loss: 1.0021 - accuracy: 0.2863 - val_loss: 1.0021 - val_accuracy: 0.2934\n",
            "Epoch 84/500\n",
            "111/111 [==============================] - 2s 14ms/step - loss: 1.0021 - accuracy: 0.2868 - val_loss: 1.0021 - val_accuracy: 0.2917\n",
            "Epoch 85/500\n",
            "111/111 [==============================] - 1s 13ms/step - loss: 1.0021 - accuracy: 0.2879 - val_loss: 1.0021 - val_accuracy: 0.2934\n",
            "Epoch 86/500\n",
            "111/111 [==============================] - 1s 13ms/step - loss: 1.0021 - accuracy: 0.2873 - val_loss: 1.0021 - val_accuracy: 0.2982\n",
            "Epoch 87/500\n",
            "111/111 [==============================] - 1s 13ms/step - loss: 1.0021 - accuracy: 0.2904 - val_loss: 1.0021 - val_accuracy: 0.2998\n",
            "Epoch 88/500\n",
            "111/111 [==============================] - 1s 13ms/step - loss: 1.0021 - accuracy: 0.2879 - val_loss: 1.0021 - val_accuracy: 0.2934\n",
            "Epoch 89/500\n",
            "111/111 [==============================] - 1s 13ms/step - loss: 1.0021 - accuracy: 0.2918 - val_loss: 1.0021 - val_accuracy: 0.2966\n",
            "Epoch 90/500\n",
            "111/111 [==============================] - 1s 13ms/step - loss: 1.0021 - accuracy: 0.2904 - val_loss: 1.0021 - val_accuracy: 0.2934\n",
            "Epoch 91/500\n",
            "111/111 [==============================] - 1s 13ms/step - loss: 1.0021 - accuracy: 0.2882 - val_loss: 1.0021 - val_accuracy: 0.2885\n",
            "Epoch 92/500\n",
            "111/111 [==============================] - 1s 13ms/step - loss: 1.0021 - accuracy: 0.2886 - val_loss: 1.0021 - val_accuracy: 0.2966\n",
            "Epoch 93/500\n",
            "111/111 [==============================] - 1s 13ms/step - loss: 1.0021 - accuracy: 0.2886 - val_loss: 1.0021 - val_accuracy: 0.2966\n",
            "Epoch 94/500\n",
            "111/111 [==============================] - 1s 13ms/step - loss: 1.0021 - accuracy: 0.2884 - val_loss: 1.0021 - val_accuracy: 0.2934\n",
            "Epoch 95/500\n",
            "111/111 [==============================] - 1s 13ms/step - loss: 1.0021 - accuracy: 0.2913 - val_loss: 1.0021 - val_accuracy: 0.2998\n",
            "Epoch 96/500\n",
            "111/111 [==============================] - 1s 13ms/step - loss: 1.0021 - accuracy: 0.2915 - val_loss: 1.0021 - val_accuracy: 0.2917\n",
            "Epoch 97/500\n",
            "111/111 [==============================] - 2s 14ms/step - loss: 1.0021 - accuracy: 0.2909 - val_loss: 1.0021 - val_accuracy: 0.3015\n",
            "Epoch 98/500\n",
            "111/111 [==============================] - 2s 14ms/step - loss: 1.0021 - accuracy: 0.2922 - val_loss: 1.0021 - val_accuracy: 0.2982\n",
            "Epoch 99/500\n",
            "111/111 [==============================] - 1s 13ms/step - loss: 1.0020 - accuracy: 0.2987 - val_loss: 1.0020 - val_accuracy: 0.3031\n",
            "Epoch 100/500\n",
            "111/111 [==============================] - 1s 13ms/step - loss: 1.0020 - accuracy: 0.3000 - val_loss: 1.0020 - val_accuracy: 0.2998\n",
            "Epoch 101/500\n",
            "111/111 [==============================] - 1s 13ms/step - loss: 1.0020 - accuracy: 0.3000 - val_loss: 1.0020 - val_accuracy: 0.3047\n",
            "Epoch 102/500\n",
            "111/111 [==============================] - 1s 13ms/step - loss: 1.0020 - accuracy: 0.3018 - val_loss: 1.0020 - val_accuracy: 0.3047\n",
            "Epoch 103/500\n",
            "111/111 [==============================] - 2s 14ms/step - loss: 1.0020 - accuracy: 0.3014 - val_loss: 1.0020 - val_accuracy: 0.3079\n",
            "Epoch 104/500\n",
            "111/111 [==============================] - 2s 14ms/step - loss: 1.0020 - accuracy: 0.3010 - val_loss: 1.0020 - val_accuracy: 0.3063\n",
            "Epoch 105/500\n",
            "111/111 [==============================] - 1s 13ms/step - loss: 1.0020 - accuracy: 0.3012 - val_loss: 1.0020 - val_accuracy: 0.3031\n",
            "Epoch 106/500\n",
            "111/111 [==============================] - 1s 13ms/step - loss: 1.0020 - accuracy: 0.3016 - val_loss: 1.0020 - val_accuracy: 0.3031\n",
            "Epoch 107/500\n",
            "111/111 [==============================] - 1s 13ms/step - loss: 1.0020 - accuracy: 0.3019 - val_loss: 1.0020 - val_accuracy: 0.3015\n",
            "Epoch 108/500\n",
            "111/111 [==============================] - 1s 13ms/step - loss: 1.0020 - accuracy: 0.2996 - val_loss: 1.0020 - val_accuracy: 0.3015\n",
            "Epoch 109/500\n",
            "111/111 [==============================] - 2s 14ms/step - loss: 1.0020 - accuracy: 0.3050 - val_loss: 1.0020 - val_accuracy: 0.3063\n",
            "Epoch 110/500\n",
            "111/111 [==============================] - 1s 13ms/step - loss: 1.0020 - accuracy: 0.3034 - val_loss: 1.0020 - val_accuracy: 0.2998\n",
            "Epoch 111/500\n",
            "111/111 [==============================] - 1s 13ms/step - loss: 1.0020 - accuracy: 0.3038 - val_loss: 1.0020 - val_accuracy: 0.3047\n",
            "Epoch 112/500\n",
            "111/111 [==============================] - 1s 13ms/step - loss: 1.0020 - accuracy: 0.3025 - val_loss: 1.0020 - val_accuracy: 0.2982\n",
            "Epoch 113/500\n",
            "111/111 [==============================] - 1s 13ms/step - loss: 1.0020 - accuracy: 0.3032 - val_loss: 1.0020 - val_accuracy: 0.2998\n",
            "Epoch 114/500\n",
            "111/111 [==============================] - 1s 13ms/step - loss: 1.0020 - accuracy: 0.3036 - val_loss: 1.0020 - val_accuracy: 0.3047\n",
            "Epoch 115/500\n",
            "111/111 [==============================] - 2s 14ms/step - loss: 1.0020 - accuracy: 0.3048 - val_loss: 1.0020 - val_accuracy: 0.3047\n",
            "Epoch 116/500\n",
            "111/111 [==============================] - 1s 13ms/step - loss: 1.0020 - accuracy: 0.3003 - val_loss: 1.0020 - val_accuracy: 0.3015\n",
            "Epoch 117/500\n",
            "111/111 [==============================] - 1s 13ms/step - loss: 1.0020 - accuracy: 0.3048 - val_loss: 1.0020 - val_accuracy: 0.3063\n",
            "Epoch 118/500\n",
            "111/111 [==============================] - 1s 13ms/step - loss: 1.0020 - accuracy: 0.3001 - val_loss: 1.0021 - val_accuracy: 0.2869\n",
            "Epoch 119/500\n",
            "111/111 [==============================] - 1s 13ms/step - loss: 1.0020 - accuracy: 0.3016 - val_loss: 1.0021 - val_accuracy: 0.2950\n",
            "Epoch 120/500\n",
            "111/111 [==============================] - 1s 13ms/step - loss: 1.0020 - accuracy: 0.3000 - val_loss: 1.0021 - val_accuracy: 0.3015\n",
            "Epoch 121/500\n",
            "111/111 [==============================] - 1s 13ms/step - loss: 1.0020 - accuracy: 0.3061 - val_loss: 1.0021 - val_accuracy: 0.3031\n",
            "Epoch 122/500\n",
            "111/111 [==============================] - 1s 13ms/step - loss: 1.0020 - accuracy: 0.3028 - val_loss: 1.0021 - val_accuracy: 0.3015\n",
            "Epoch 123/500\n",
            "111/111 [==============================] - 2s 14ms/step - loss: 1.0020 - accuracy: 0.3045 - val_loss: 1.0021 - val_accuracy: 0.2998\n",
            "Epoch 124/500\n",
            "111/111 [==============================] - 2s 14ms/step - loss: 1.0020 - accuracy: 0.3068 - val_loss: 1.0021 - val_accuracy: 0.3015\n",
            "Epoch 125/500\n",
            "111/111 [==============================] - 2s 14ms/step - loss: 1.0020 - accuracy: 0.3070 - val_loss: 1.0020 - val_accuracy: 0.3063\n",
            "Epoch 126/500\n",
            "111/111 [==============================] - 1s 13ms/step - loss: 1.0020 - accuracy: 0.3074 - val_loss: 1.0020 - val_accuracy: 0.3096\n",
            "Epoch 127/500\n",
            "111/111 [==============================] - 1s 13ms/step - loss: 1.0020 - accuracy: 0.3061 - val_loss: 1.0020 - val_accuracy: 0.3063\n",
            "Epoch 128/500\n",
            "111/111 [==============================] - 1s 13ms/step - loss: 1.0020 - accuracy: 0.3056 - val_loss: 1.0020 - val_accuracy: 0.3079\n",
            "Epoch 129/500\n",
            "111/111 [==============================] - 1s 13ms/step - loss: 1.0020 - accuracy: 0.3072 - val_loss: 1.0020 - val_accuracy: 0.3047\n",
            "Epoch 130/500\n",
            "111/111 [==============================] - 1s 13ms/step - loss: 1.0020 - accuracy: 0.3084 - val_loss: 1.0020 - val_accuracy: 0.3047\n",
            "Epoch 131/500\n",
            "111/111 [==============================] - 1s 13ms/step - loss: 1.0020 - accuracy: 0.3065 - val_loss: 1.0020 - val_accuracy: 0.3047\n",
            "Epoch 132/500\n",
            "111/111 [==============================] - 1s 13ms/step - loss: 1.0020 - accuracy: 0.3043 - val_loss: 1.0020 - val_accuracy: 0.3096\n",
            "Epoch 133/500\n",
            "111/111 [==============================] - 1s 13ms/step - loss: 1.0020 - accuracy: 0.3070 - val_loss: 1.0020 - val_accuracy: 0.3096\n",
            "Epoch 134/500\n",
            "111/111 [==============================] - 1s 13ms/step - loss: 1.0020 - accuracy: 0.3079 - val_loss: 1.0020 - val_accuracy: 0.3193\n",
            "Epoch 135/500\n",
            "111/111 [==============================] - 1s 13ms/step - loss: 1.0020 - accuracy: 0.3048 - val_loss: 1.0021 - val_accuracy: 0.2998\n",
            "Epoch 136/500\n",
            "111/111 [==============================] - 1s 13ms/step - loss: 1.0020 - accuracy: 0.3077 - val_loss: 1.0020 - val_accuracy: 0.3047\n",
            "Epoch 137/500\n",
            "111/111 [==============================] - 1s 13ms/step - loss: 1.0020 - accuracy: 0.3092 - val_loss: 1.0020 - val_accuracy: 0.3112\n",
            "Epoch 138/500\n",
            "111/111 [==============================] - 1s 13ms/step - loss: 1.0020 - accuracy: 0.3083 - val_loss: 1.0021 - val_accuracy: 0.3015\n",
            "Epoch 139/500\n",
            "111/111 [==============================] - 1s 13ms/step - loss: 1.0020 - accuracy: 0.3081 - val_loss: 1.0021 - val_accuracy: 0.2982\n",
            "Epoch 140/500\n",
            "111/111 [==============================] - 1s 13ms/step - loss: 1.0020 - accuracy: 0.3086 - val_loss: 1.0019 - val_accuracy: 0.3225\n",
            "Epoch 141/500\n",
            "111/111 [==============================] - 1s 13ms/step - loss: 1.0020 - accuracy: 0.3101 - val_loss: 1.0021 - val_accuracy: 0.3015\n",
            "Epoch 142/500\n",
            "111/111 [==============================] - 1s 13ms/step - loss: 1.0020 - accuracy: 0.3101 - val_loss: 1.0020 - val_accuracy: 0.3047\n",
            "Epoch 143/500\n",
            "111/111 [==============================] - 1s 13ms/step - loss: 1.0020 - accuracy: 0.3079 - val_loss: 1.0020 - val_accuracy: 0.3144\n",
            "Epoch 144/500\n",
            "111/111 [==============================] - 1s 13ms/step - loss: 1.0020 - accuracy: 0.3097 - val_loss: 1.0020 - val_accuracy: 0.3112\n",
            "Epoch 145/500\n",
            "111/111 [==============================] - 1s 13ms/step - loss: 1.0020 - accuracy: 0.3146 - val_loss: 1.0020 - val_accuracy: 0.3112\n",
            "Epoch 146/500\n",
            "111/111 [==============================] - 1s 13ms/step - loss: 1.0019 - accuracy: 0.3243 - val_loss: 1.0019 - val_accuracy: 0.3371\n",
            "Epoch 147/500\n",
            "111/111 [==============================] - 1s 13ms/step - loss: 1.0019 - accuracy: 0.3351 - val_loss: 1.0019 - val_accuracy: 0.3549\n",
            "Epoch 148/500\n",
            "111/111 [==============================] - 2s 14ms/step - loss: 1.0019 - accuracy: 0.3312 - val_loss: 1.0018 - val_accuracy: 0.3420\n",
            "Epoch 149/500\n",
            "111/111 [==============================] - 2s 14ms/step - loss: 1.0019 - accuracy: 0.3346 - val_loss: 1.0018 - val_accuracy: 0.3533\n",
            "Epoch 150/500\n",
            "111/111 [==============================] - 2s 14ms/step - loss: 1.0019 - accuracy: 0.3373 - val_loss: 1.0019 - val_accuracy: 0.3533\n",
            "Epoch 151/500\n",
            "111/111 [==============================] - 1s 14ms/step - loss: 1.0019 - accuracy: 0.3330 - val_loss: 1.0018 - val_accuracy: 0.3517\n",
            "Epoch 152/500\n",
            "111/111 [==============================] - 2s 14ms/step - loss: 1.0018 - accuracy: 0.3405 - val_loss: 1.0018 - val_accuracy: 0.3598\n",
            "Epoch 153/500\n",
            "111/111 [==============================] - 2s 14ms/step - loss: 1.0018 - accuracy: 0.3409 - val_loss: 1.0018 - val_accuracy: 0.3582\n",
            "Epoch 154/500\n",
            "111/111 [==============================] - 2s 14ms/step - loss: 1.0018 - accuracy: 0.3451 - val_loss: 1.0017 - val_accuracy: 0.3679\n",
            "Epoch 155/500\n",
            "111/111 [==============================] - 2s 14ms/step - loss: 1.0018 - accuracy: 0.3469 - val_loss: 1.0017 - val_accuracy: 0.3679\n",
            "Epoch 156/500\n",
            "111/111 [==============================] - 1s 13ms/step - loss: 1.0018 - accuracy: 0.3413 - val_loss: 1.0018 - val_accuracy: 0.3598\n",
            "Epoch 157/500\n",
            "111/111 [==============================] - 1s 13ms/step - loss: 1.0018 - accuracy: 0.3499 - val_loss: 1.0017 - val_accuracy: 0.3647\n",
            "Epoch 158/500\n",
            "111/111 [==============================] - 2s 14ms/step - loss: 1.0018 - accuracy: 0.3544 - val_loss: 1.0017 - val_accuracy: 0.3712\n",
            "Epoch 159/500\n",
            "111/111 [==============================] - 2s 14ms/step - loss: 1.0018 - accuracy: 0.3548 - val_loss: 1.0017 - val_accuracy: 0.3793\n",
            "Epoch 160/500\n",
            "111/111 [==============================] - 2s 14ms/step - loss: 1.0017 - accuracy: 0.3604 - val_loss: 1.0017 - val_accuracy: 0.3760\n",
            "Epoch 161/500\n",
            "111/111 [==============================] - 1s 13ms/step - loss: 1.0017 - accuracy: 0.3586 - val_loss: 1.0017 - val_accuracy: 0.3760\n",
            "Epoch 162/500\n",
            "111/111 [==============================] - 1s 13ms/step - loss: 1.0017 - accuracy: 0.3608 - val_loss: 1.0017 - val_accuracy: 0.3793\n",
            "Epoch 163/500\n",
            "111/111 [==============================] - 1s 14ms/step - loss: 1.0017 - accuracy: 0.3604 - val_loss: 1.0017 - val_accuracy: 0.3793\n",
            "Epoch 164/500\n",
            "111/111 [==============================] - 2s 14ms/step - loss: 1.0017 - accuracy: 0.3624 - val_loss: 1.0017 - val_accuracy: 0.3793\n",
            "Epoch 165/500\n",
            "111/111 [==============================] - 2s 14ms/step - loss: 1.0017 - accuracy: 0.3631 - val_loss: 1.0017 - val_accuracy: 0.3760\n",
            "Epoch 166/500\n",
            "111/111 [==============================] - 2s 14ms/step - loss: 1.0018 - accuracy: 0.3588 - val_loss: 1.0017 - val_accuracy: 0.3793\n",
            "Epoch 167/500\n",
            "111/111 [==============================] - 2s 14ms/step - loss: 1.0017 - accuracy: 0.3611 - val_loss: 1.0017 - val_accuracy: 0.3809\n",
            "Epoch 168/500\n",
            "111/111 [==============================] - 2s 14ms/step - loss: 1.0017 - accuracy: 0.3606 - val_loss: 1.0017 - val_accuracy: 0.3760\n",
            "Epoch 169/500\n",
            "111/111 [==============================] - 1s 13ms/step - loss: 1.0017 - accuracy: 0.3629 - val_loss: 1.0016 - val_accuracy: 0.3809\n",
            "Epoch 170/500\n",
            "111/111 [==============================] - 1s 13ms/step - loss: 1.0017 - accuracy: 0.3626 - val_loss: 1.0016 - val_accuracy: 0.3776\n",
            "Epoch 171/500\n",
            "111/111 [==============================] - 1s 13ms/step - loss: 1.0017 - accuracy: 0.3636 - val_loss: 1.0017 - val_accuracy: 0.3679\n",
            "Epoch 172/500\n",
            "111/111 [==============================] - 2s 14ms/step - loss: 1.0017 - accuracy: 0.3617 - val_loss: 1.0016 - val_accuracy: 0.3760\n",
            "Epoch 173/500\n",
            "111/111 [==============================] - 1s 14ms/step - loss: 1.0017 - accuracy: 0.3640 - val_loss: 1.0016 - val_accuracy: 0.3776\n",
            "Epoch 174/500\n",
            "111/111 [==============================] - 1s 13ms/step - loss: 1.0017 - accuracy: 0.3649 - val_loss: 1.0016 - val_accuracy: 0.3809\n",
            "Epoch 175/500\n",
            "111/111 [==============================] - 1s 13ms/step - loss: 1.0017 - accuracy: 0.3617 - val_loss: 1.0017 - val_accuracy: 0.3744\n",
            "Epoch 176/500\n",
            "111/111 [==============================] - 1s 13ms/step - loss: 1.0019 - accuracy: 0.3344 - val_loss: 1.0018 - val_accuracy: 0.3614\n",
            "Epoch 177/500\n",
            "111/111 [==============================] - 1s 13ms/step - loss: 1.0019 - accuracy: 0.3339 - val_loss: 1.0018 - val_accuracy: 0.3598\n",
            "Epoch 178/500\n",
            "111/111 [==============================] - 1s 13ms/step - loss: 1.0019 - accuracy: 0.3332 - val_loss: 1.0017 - val_accuracy: 0.3566\n",
            "Epoch 179/500\n",
            "111/111 [==============================] - 1s 13ms/step - loss: 1.0018 - accuracy: 0.3463 - val_loss: 1.0016 - val_accuracy: 0.3793\n",
            "Epoch 180/500\n",
            "111/111 [==============================] - 1s 13ms/step - loss: 1.0017 - accuracy: 0.3642 - val_loss: 1.0017 - val_accuracy: 0.3793\n",
            "Epoch 181/500\n",
            "111/111 [==============================] - 1s 13ms/step - loss: 1.0017 - accuracy: 0.3645 - val_loss: 1.0016 - val_accuracy: 0.3809\n",
            "Epoch 182/500\n",
            "111/111 [==============================] - 1s 13ms/step - loss: 1.0017 - accuracy: 0.3635 - val_loss: 1.0016 - val_accuracy: 0.3760\n",
            "Epoch 183/500\n",
            "111/111 [==============================] - 1s 13ms/step - loss: 1.0017 - accuracy: 0.3651 - val_loss: 1.0016 - val_accuracy: 0.3793\n",
            "Epoch 184/500\n",
            "111/111 [==============================] - 1s 13ms/step - loss: 1.0017 - accuracy: 0.3624 - val_loss: 1.0017 - val_accuracy: 0.3712\n",
            "Epoch 185/500\n",
            "111/111 [==============================] - 1s 13ms/step - loss: 1.0017 - accuracy: 0.3638 - val_loss: 1.0016 - val_accuracy: 0.3841\n",
            "Epoch 186/500\n",
            "111/111 [==============================] - 1s 13ms/step - loss: 1.0017 - accuracy: 0.3642 - val_loss: 1.0017 - val_accuracy: 0.3630\n",
            "Epoch 187/500\n",
            "111/111 [==============================] - 1s 13ms/step - loss: 1.0017 - accuracy: 0.3647 - val_loss: 1.0016 - val_accuracy: 0.3809\n",
            "Epoch 188/500\n",
            "111/111 [==============================] - 2s 14ms/step - loss: 1.0017 - accuracy: 0.3633 - val_loss: 1.0016 - val_accuracy: 0.3809\n",
            "Epoch 189/500\n",
            "111/111 [==============================] - 2s 14ms/step - loss: 1.0017 - accuracy: 0.3660 - val_loss: 1.0016 - val_accuracy: 0.3825\n",
            "Epoch 190/500\n",
            "111/111 [==============================] - 2s 14ms/step - loss: 1.0017 - accuracy: 0.3584 - val_loss: 1.0016 - val_accuracy: 0.3776\n",
            "Epoch 191/500\n",
            "111/111 [==============================] - 1s 13ms/step - loss: 1.0017 - accuracy: 0.3651 - val_loss: 1.0016 - val_accuracy: 0.3825\n",
            "Epoch 192/500\n",
            "111/111 [==============================] - 1s 13ms/step - loss: 1.0017 - accuracy: 0.3620 - val_loss: 1.0016 - val_accuracy: 0.3793\n",
            "Epoch 193/500\n",
            "111/111 [==============================] - 1s 13ms/step - loss: 1.0017 - accuracy: 0.3638 - val_loss: 1.0017 - val_accuracy: 0.3728\n",
            "Epoch 194/500\n",
            "111/111 [==============================] - 2s 14ms/step - loss: 1.0017 - accuracy: 0.3658 - val_loss: 1.0016 - val_accuracy: 0.3776\n",
            "Epoch 195/500\n",
            "111/111 [==============================] - 2s 14ms/step - loss: 1.0017 - accuracy: 0.3653 - val_loss: 1.0017 - val_accuracy: 0.3679\n",
            "Epoch 196/500\n",
            "111/111 [==============================] - 1s 13ms/step - loss: 1.0017 - accuracy: 0.3573 - val_loss: 1.0017 - val_accuracy: 0.3809\n",
            "Epoch 197/500\n",
            "111/111 [==============================] - 1s 13ms/step - loss: 1.0017 - accuracy: 0.3654 - val_loss: 1.0016 - val_accuracy: 0.3793\n",
            "Epoch 198/500\n",
            "111/111 [==============================] - 1s 13ms/step - loss: 1.0017 - accuracy: 0.3653 - val_loss: 1.0017 - val_accuracy: 0.3744\n",
            "Epoch 199/500\n",
            "111/111 [==============================] - 1s 13ms/step - loss: 1.0017 - accuracy: 0.3647 - val_loss: 1.0017 - val_accuracy: 0.3793\n",
            "Epoch 200/500\n",
            "111/111 [==============================] - 1s 13ms/step - loss: 1.0017 - accuracy: 0.3633 - val_loss: 1.0016 - val_accuracy: 0.3760\n",
            "Epoch 201/500\n",
            "111/111 [==============================] - 1s 13ms/step - loss: 1.0017 - accuracy: 0.3640 - val_loss: 1.0016 - val_accuracy: 0.3841\n",
            "Epoch 202/500\n",
            "111/111 [==============================] - 1s 13ms/step - loss: 1.0017 - accuracy: 0.3649 - val_loss: 1.0016 - val_accuracy: 0.3809\n",
            "Epoch 203/500\n",
            "111/111 [==============================] - 1s 13ms/step - loss: 1.0016 - accuracy: 0.3665 - val_loss: 1.0016 - val_accuracy: 0.3793\n",
            "Epoch 204/500\n",
            "111/111 [==============================] - 1s 13ms/step - loss: 1.0017 - accuracy: 0.3656 - val_loss: 1.0016 - val_accuracy: 0.3744\n",
            "Epoch 205/500\n",
            "111/111 [==============================] - 1s 13ms/step - loss: 1.0017 - accuracy: 0.3645 - val_loss: 1.0017 - val_accuracy: 0.3793\n",
            "Epoch 206/500\n",
            "111/111 [==============================] - 1s 13ms/step - loss: 1.0017 - accuracy: 0.3654 - val_loss: 1.0016 - val_accuracy: 0.3793\n",
            "Epoch 207/500\n",
            "111/111 [==============================] - 1s 13ms/step - loss: 1.0017 - accuracy: 0.3656 - val_loss: 1.0016 - val_accuracy: 0.3825\n",
            "Epoch 208/500\n",
            "111/111 [==============================] - 1s 13ms/step - loss: 1.0016 - accuracy: 0.3672 - val_loss: 1.0016 - val_accuracy: 0.3825\n",
            "Epoch 209/500\n",
            "111/111 [==============================] - 1s 13ms/step - loss: 1.0016 - accuracy: 0.3669 - val_loss: 1.0016 - val_accuracy: 0.3825\n",
            "Epoch 210/500\n",
            "111/111 [==============================] - 1s 13ms/step - loss: 1.0016 - accuracy: 0.3671 - val_loss: 1.0016 - val_accuracy: 0.3776\n",
            "Epoch 211/500\n",
            "111/111 [==============================] - 1s 13ms/step - loss: 1.0017 - accuracy: 0.3631 - val_loss: 1.0016 - val_accuracy: 0.3809\n",
            "Epoch 212/500\n",
            "111/111 [==============================] - 1s 13ms/step - loss: 1.0017 - accuracy: 0.3653 - val_loss: 1.0016 - val_accuracy: 0.3841\n",
            "Epoch 213/500\n",
            "111/111 [==============================] - 1s 13ms/step - loss: 1.0017 - accuracy: 0.3654 - val_loss: 1.0016 - val_accuracy: 0.3793\n",
            "Epoch 214/500\n",
            "111/111 [==============================] - 1s 13ms/step - loss: 1.0017 - accuracy: 0.3658 - val_loss: 1.0016 - val_accuracy: 0.3809\n",
            "Epoch 215/500\n",
            "111/111 [==============================] - 2s 14ms/step - loss: 1.0017 - accuracy: 0.3642 - val_loss: 1.0016 - val_accuracy: 0.3809\n",
            "Epoch 216/500\n",
            "111/111 [==============================] - 1s 13ms/step - loss: 1.0017 - accuracy: 0.3663 - val_loss: 1.0016 - val_accuracy: 0.3760\n",
            "Epoch 217/500\n",
            "111/111 [==============================] - 2s 14ms/step - loss: 1.0016 - accuracy: 0.3653 - val_loss: 1.0017 - val_accuracy: 0.3776\n",
            "Epoch 218/500\n",
            "111/111 [==============================] - 2s 14ms/step - loss: 1.0017 - accuracy: 0.3617 - val_loss: 1.0016 - val_accuracy: 0.3744\n",
            "Epoch 219/500\n",
            "111/111 [==============================] - 1s 13ms/step - loss: 1.0017 - accuracy: 0.3662 - val_loss: 1.0016 - val_accuracy: 0.3825\n",
            "Epoch 220/500\n",
            "111/111 [==============================] - 1s 13ms/step - loss: 1.0017 - accuracy: 0.3638 - val_loss: 1.0018 - val_accuracy: 0.3663\n",
            "Epoch 221/500\n",
            "111/111 [==============================] - 1s 13ms/step - loss: 1.0018 - accuracy: 0.3537 - val_loss: 1.0018 - val_accuracy: 0.3663\n",
            "Epoch 222/500\n",
            "111/111 [==============================] - 1s 13ms/step - loss: 1.0017 - accuracy: 0.3609 - val_loss: 1.0016 - val_accuracy: 0.3857\n",
            "Epoch 223/500\n",
            "111/111 [==============================] - 1s 13ms/step - loss: 1.0017 - accuracy: 0.3662 - val_loss: 1.0016 - val_accuracy: 0.3825\n",
            "Epoch 224/500\n",
            "111/111 [==============================] - 2s 14ms/step - loss: 1.0017 - accuracy: 0.3638 - val_loss: 1.0017 - val_accuracy: 0.3614\n",
            "Epoch 225/500\n",
            "111/111 [==============================] - 1s 13ms/step - loss: 1.0018 - accuracy: 0.3442 - val_loss: 1.0017 - val_accuracy: 0.3695\n",
            "Epoch 226/500\n",
            "111/111 [==============================] - 1s 13ms/step - loss: 1.0017 - accuracy: 0.3452 - val_loss: 1.0016 - val_accuracy: 0.3712\n",
            "Epoch 227/500\n",
            "111/111 [==============================] - 1s 13ms/step - loss: 1.0017 - accuracy: 0.3640 - val_loss: 1.0016 - val_accuracy: 0.3809\n",
            "Epoch 228/500\n",
            "111/111 [==============================] - 1s 13ms/step - loss: 1.0016 - accuracy: 0.3672 - val_loss: 1.0016 - val_accuracy: 0.3825\n",
            "Epoch 229/500\n",
            "111/111 [==============================] - 1s 13ms/step - loss: 1.0017 - accuracy: 0.3653 - val_loss: 1.0016 - val_accuracy: 0.3776\n",
            "Epoch 230/500\n",
            "111/111 [==============================] - 1s 13ms/step - loss: 1.0016 - accuracy: 0.3671 - val_loss: 1.0016 - val_accuracy: 0.3825\n",
            "Epoch 231/500\n",
            "111/111 [==============================] - 1s 13ms/step - loss: 1.0017 - accuracy: 0.3562 - val_loss: 1.0018 - val_accuracy: 0.3549\n",
            "Epoch 232/500\n",
            "111/111 [==============================] - 1s 13ms/step - loss: 1.0018 - accuracy: 0.3505 - val_loss: 1.0018 - val_accuracy: 0.3566\n",
            "Epoch 233/500\n",
            "111/111 [==============================] - 1s 13ms/step - loss: 1.0017 - accuracy: 0.3519 - val_loss: 1.0018 - val_accuracy: 0.3566\n",
            "Epoch 234/500\n",
            "111/111 [==============================] - 1s 13ms/step - loss: 1.0017 - accuracy: 0.3532 - val_loss: 1.0018 - val_accuracy: 0.3549\n",
            "Epoch 235/500\n",
            "111/111 [==============================] - 1s 13ms/step - loss: 1.0017 - accuracy: 0.3532 - val_loss: 1.0018 - val_accuracy: 0.3566\n",
            "Epoch 236/500\n",
            "111/111 [==============================] - 2s 14ms/step - loss: 1.0018 - accuracy: 0.3474 - val_loss: 1.0018 - val_accuracy: 0.3549\n",
            "Epoch 237/500\n",
            "111/111 [==============================] - 2s 15ms/step - loss: 1.0018 - accuracy: 0.3497 - val_loss: 1.0018 - val_accuracy: 0.3533\n",
            "Epoch 238/500\n",
            "111/111 [==============================] - 1s 13ms/step - loss: 1.0017 - accuracy: 0.3526 - val_loss: 1.0018 - val_accuracy: 0.3549\n",
            "Epoch 239/500\n",
            "111/111 [==============================] - 1s 13ms/step - loss: 1.0017 - accuracy: 0.3521 - val_loss: 1.0018 - val_accuracy: 0.3485\n",
            "Epoch 240/500\n",
            "111/111 [==============================] - 1s 13ms/step - loss: 1.0018 - accuracy: 0.3501 - val_loss: 1.0018 - val_accuracy: 0.3549\n",
            "Epoch 241/500\n",
            "111/111 [==============================] - 2s 14ms/step - loss: 1.0017 - accuracy: 0.3505 - val_loss: 1.0018 - val_accuracy: 0.3517\n",
            "Epoch 242/500\n",
            "111/111 [==============================] - 1s 13ms/step - loss: 1.0017 - accuracy: 0.3523 - val_loss: 1.0018 - val_accuracy: 0.3566\n",
            "Epoch 243/500\n",
            "111/111 [==============================] - 1s 13ms/step - loss: 1.0017 - accuracy: 0.3530 - val_loss: 1.0018 - val_accuracy: 0.3533\n",
            "Epoch 244/500\n",
            "111/111 [==============================] - 1s 13ms/step - loss: 1.0017 - accuracy: 0.3488 - val_loss: 1.0019 - val_accuracy: 0.3371\n",
            "Epoch 245/500\n",
            "111/111 [==============================] - 2s 14ms/step - loss: 1.0018 - accuracy: 0.3353 - val_loss: 1.0018 - val_accuracy: 0.3371\n",
            "Epoch 246/500\n",
            "111/111 [==============================] - 1s 13ms/step - loss: 1.0019 - accuracy: 0.3332 - val_loss: 1.0019 - val_accuracy: 0.3371\n",
            "Epoch 247/500\n",
            "111/111 [==============================] - 1s 13ms/step - loss: 1.0018 - accuracy: 0.3366 - val_loss: 1.0019 - val_accuracy: 0.3533\n",
            "Epoch 248/500\n",
            "111/111 [==============================] - 2s 14ms/step - loss: 1.0017 - accuracy: 0.3544 - val_loss: 1.0017 - val_accuracy: 0.3566\n",
            "Epoch 249/500\n",
            "111/111 [==============================] - 1s 13ms/step - loss: 1.0017 - accuracy: 0.3544 - val_loss: 1.0018 - val_accuracy: 0.3582\n",
            "Epoch 250/500\n",
            "111/111 [==============================] - 1s 13ms/step - loss: 1.0017 - accuracy: 0.3539 - val_loss: 1.0018 - val_accuracy: 0.3549\n",
            "Epoch 251/500\n",
            "111/111 [==============================] - 1s 13ms/step - loss: 1.0017 - accuracy: 0.3517 - val_loss: 1.0018 - val_accuracy: 0.3630\n",
            "Epoch 252/500\n",
            "111/111 [==============================] - 1s 13ms/step - loss: 1.0017 - accuracy: 0.3546 - val_loss: 1.0017 - val_accuracy: 0.3566\n",
            "Epoch 253/500\n",
            "111/111 [==============================] - 2s 14ms/step - loss: 1.0017 - accuracy: 0.3541 - val_loss: 1.0017 - val_accuracy: 0.3614\n",
            "Epoch 254/500\n",
            "111/111 [==============================] - 1s 13ms/step - loss: 1.0017 - accuracy: 0.3546 - val_loss: 1.0018 - val_accuracy: 0.3582\n",
            "Epoch 255/500\n",
            "111/111 [==============================] - 1s 13ms/step - loss: 1.0017 - accuracy: 0.3526 - val_loss: 1.0018 - val_accuracy: 0.3614\n",
            "Epoch 256/500\n",
            "111/111 [==============================] - 1s 13ms/step - loss: 1.0018 - accuracy: 0.3424 - val_loss: 1.0019 - val_accuracy: 0.3420\n",
            "Epoch 257/500\n",
            "111/111 [==============================] - 2s 14ms/step - loss: 1.0018 - accuracy: 0.3404 - val_loss: 1.0019 - val_accuracy: 0.3387\n",
            "Epoch 258/500\n",
            "111/111 [==============================] - 2s 14ms/step - loss: 1.0018 - accuracy: 0.3442 - val_loss: 1.0018 - val_accuracy: 0.3598\n",
            "Epoch 259/500\n",
            "111/111 [==============================] - 2s 14ms/step - loss: 1.0018 - accuracy: 0.3496 - val_loss: 1.0019 - val_accuracy: 0.3387\n",
            "Epoch 260/500\n",
            "111/111 [==============================] - 2s 14ms/step - loss: 1.0018 - accuracy: 0.3405 - val_loss: 1.0019 - val_accuracy: 0.3274\n",
            "Epoch 261/500\n",
            "111/111 [==============================] - 2s 14ms/step - loss: 1.0018 - accuracy: 0.3391 - val_loss: 1.0018 - val_accuracy: 0.3420\n",
            "Epoch 262/500\n",
            "111/111 [==============================] - 2s 14ms/step - loss: 1.0018 - accuracy: 0.3461 - val_loss: 1.0018 - val_accuracy: 0.3614\n",
            "Epoch 263/500\n",
            "111/111 [==============================] - 2s 14ms/step - loss: 1.0018 - accuracy: 0.3525 - val_loss: 1.0017 - val_accuracy: 0.3598\n",
            "Epoch 264/500\n",
            "111/111 [==============================] - 2s 14ms/step - loss: 1.0017 - accuracy: 0.3555 - val_loss: 1.0017 - val_accuracy: 0.3582\n",
            "Epoch 265/500\n",
            "111/111 [==============================] - 2s 14ms/step - loss: 1.0017 - accuracy: 0.3568 - val_loss: 1.0017 - val_accuracy: 0.3614\n",
            "Epoch 266/500\n",
            "111/111 [==============================] - 2s 14ms/step - loss: 1.0017 - accuracy: 0.3532 - val_loss: 1.0017 - val_accuracy: 0.3614\n",
            "Epoch 267/500\n",
            "111/111 [==============================] - 2s 14ms/step - loss: 1.0017 - accuracy: 0.3570 - val_loss: 1.0017 - val_accuracy: 0.3598\n",
            "Epoch 268/500\n",
            "111/111 [==============================] - 2s 14ms/step - loss: 1.0017 - accuracy: 0.3555 - val_loss: 1.0017 - val_accuracy: 0.3630\n",
            "Epoch 269/500\n",
            "111/111 [==============================] - 2s 14ms/step - loss: 1.0017 - accuracy: 0.3552 - val_loss: 1.0017 - val_accuracy: 0.3614\n",
            "Epoch 270/500\n",
            "111/111 [==============================] - 2s 14ms/step - loss: 1.0017 - accuracy: 0.3519 - val_loss: 1.0017 - val_accuracy: 0.3614\n",
            "Epoch 271/500\n",
            "111/111 [==============================] - 2s 14ms/step - loss: 1.0017 - accuracy: 0.3525 - val_loss: 1.0019 - val_accuracy: 0.3436\n",
            "Epoch 272/500\n",
            "111/111 [==============================] - 2s 14ms/step - loss: 1.0018 - accuracy: 0.3425 - val_loss: 1.0018 - val_accuracy: 0.3420\n",
            "Epoch 273/500\n",
            "111/111 [==============================] - 2s 14ms/step - loss: 1.0018 - accuracy: 0.3436 - val_loss: 1.0018 - val_accuracy: 0.3452\n",
            "Epoch 274/500\n",
            "111/111 [==============================] - 2s 14ms/step - loss: 1.0018 - accuracy: 0.3526 - val_loss: 1.0018 - val_accuracy: 0.3598\n",
            "Epoch 275/500\n",
            "111/111 [==============================] - 2s 14ms/step - loss: 1.0018 - accuracy: 0.3557 - val_loss: 1.0017 - val_accuracy: 0.3695\n",
            "Epoch 276/500\n",
            "111/111 [==============================] - 1s 13ms/step - loss: 1.0017 - accuracy: 0.3553 - val_loss: 1.0017 - val_accuracy: 0.3712\n",
            "Epoch 277/500\n",
            "111/111 [==============================] - 1s 13ms/step - loss: 1.0018 - accuracy: 0.3525 - val_loss: 1.0018 - val_accuracy: 0.3582\n",
            "Epoch 278/500\n",
            "111/111 [==============================] - 2s 14ms/step - loss: 1.0017 - accuracy: 0.3615 - val_loss: 1.0017 - val_accuracy: 0.3663\n",
            "Epoch 279/500\n",
            "111/111 [==============================] - 2s 14ms/step - loss: 1.0017 - accuracy: 0.3629 - val_loss: 1.0017 - val_accuracy: 0.3744\n",
            "Epoch 280/500\n",
            "111/111 [==============================] - 1s 13ms/step - loss: 1.0017 - accuracy: 0.3640 - val_loss: 1.0017 - val_accuracy: 0.3760\n",
            "Epoch 281/500\n",
            "111/111 [==============================] - 2s 14ms/step - loss: 1.0017 - accuracy: 0.3631 - val_loss: 1.0018 - val_accuracy: 0.3549\n",
            "Epoch 282/500\n",
            "111/111 [==============================] - 2s 14ms/step - loss: 1.0017 - accuracy: 0.3644 - val_loss: 1.0017 - val_accuracy: 0.3744\n",
            "Epoch 283/500\n",
            "111/111 [==============================] - 2s 14ms/step - loss: 1.0017 - accuracy: 0.3680 - val_loss: 1.0017 - val_accuracy: 0.3728\n",
            "Epoch 284/500\n",
            "111/111 [==============================] - 2s 14ms/step - loss: 1.0017 - accuracy: 0.3649 - val_loss: 1.0016 - val_accuracy: 0.3776\n",
            "Epoch 285/500\n",
            "111/111 [==============================] - 2s 14ms/step - loss: 1.0017 - accuracy: 0.3660 - val_loss: 1.0018 - val_accuracy: 0.3695\n",
            "Epoch 286/500\n",
            "111/111 [==============================] - 2s 14ms/step - loss: 1.0017 - accuracy: 0.3636 - val_loss: 1.0017 - val_accuracy: 0.3809\n",
            "Epoch 287/500\n",
            "111/111 [==============================] - 2s 14ms/step - loss: 1.0017 - accuracy: 0.3660 - val_loss: 1.0016 - val_accuracy: 0.3841\n",
            "Epoch 288/500\n",
            "111/111 [==============================] - 2s 15ms/step - loss: 1.0017 - accuracy: 0.3649 - val_loss: 1.0018 - val_accuracy: 0.3630\n",
            "Epoch 289/500\n",
            "111/111 [==============================] - 2s 14ms/step - loss: 1.0017 - accuracy: 0.3660 - val_loss: 1.0017 - val_accuracy: 0.3776\n",
            "Epoch 290/500\n",
            "111/111 [==============================] - 1s 13ms/step - loss: 1.0016 - accuracy: 0.3755 - val_loss: 1.0016 - val_accuracy: 0.3906\n",
            "Epoch 291/500\n",
            "111/111 [==============================] - 2s 14ms/step - loss: 1.0016 - accuracy: 0.3793 - val_loss: 1.0016 - val_accuracy: 0.3906\n",
            "Epoch 292/500\n",
            "111/111 [==============================] - 2s 14ms/step - loss: 1.0016 - accuracy: 0.3791 - val_loss: 1.0015 - val_accuracy: 0.3938\n",
            "Epoch 293/500\n",
            "111/111 [==============================] - 2s 14ms/step - loss: 1.0016 - accuracy: 0.3788 - val_loss: 1.0016 - val_accuracy: 0.3922\n",
            "Epoch 294/500\n",
            "111/111 [==============================] - 2s 15ms/step - loss: 1.0016 - accuracy: 0.3790 - val_loss: 1.0015 - val_accuracy: 0.3955\n",
            "Epoch 295/500\n",
            "111/111 [==============================] - 2s 14ms/step - loss: 1.0016 - accuracy: 0.3770 - val_loss: 1.0016 - val_accuracy: 0.3874\n",
            "Epoch 296/500\n",
            "111/111 [==============================] - 2s 14ms/step - loss: 1.0016 - accuracy: 0.3784 - val_loss: 1.0016 - val_accuracy: 0.3890\n",
            "Epoch 297/500\n",
            "111/111 [==============================] - 2s 14ms/step - loss: 1.0016 - accuracy: 0.3801 - val_loss: 1.0015 - val_accuracy: 0.3938\n",
            "Epoch 298/500\n",
            "111/111 [==============================] - 2s 14ms/step - loss: 1.0016 - accuracy: 0.3772 - val_loss: 1.0016 - val_accuracy: 0.3938\n",
            "Epoch 299/500\n",
            "111/111 [==============================] - 2s 14ms/step - loss: 1.0016 - accuracy: 0.3784 - val_loss: 1.0015 - val_accuracy: 0.3971\n",
            "Epoch 300/500\n",
            "111/111 [==============================] - 2s 14ms/step - loss: 1.0016 - accuracy: 0.3806 - val_loss: 1.0016 - val_accuracy: 0.3922\n",
            "Epoch 301/500\n",
            "111/111 [==============================] - 2s 14ms/step - loss: 1.0016 - accuracy: 0.3795 - val_loss: 1.0016 - val_accuracy: 0.3938\n",
            "Epoch 302/500\n",
            "111/111 [==============================] - 2s 14ms/step - loss: 1.0016 - accuracy: 0.3788 - val_loss: 1.0016 - val_accuracy: 0.3922\n",
            "Epoch 303/500\n",
            "111/111 [==============================] - 2s 15ms/step - loss: 1.0016 - accuracy: 0.3788 - val_loss: 1.0016 - val_accuracy: 0.3922\n",
            "Epoch 304/500\n",
            "111/111 [==============================] - 2s 15ms/step - loss: 1.0017 - accuracy: 0.3667 - val_loss: 1.0016 - val_accuracy: 0.3922\n",
            "Epoch 305/500\n",
            "111/111 [==============================] - 2s 14ms/step - loss: 1.0016 - accuracy: 0.3786 - val_loss: 1.0015 - val_accuracy: 0.3922\n",
            "Epoch 306/500\n",
            "111/111 [==============================] - 2s 14ms/step - loss: 1.0016 - accuracy: 0.3777 - val_loss: 1.0017 - val_accuracy: 0.3760\n",
            "Epoch 307/500\n",
            "111/111 [==============================] - 2s 14ms/step - loss: 1.0017 - accuracy: 0.3663 - val_loss: 1.0017 - val_accuracy: 0.3776\n",
            "Epoch 308/500\n",
            "111/111 [==============================] - 2s 14ms/step - loss: 1.0017 - accuracy: 0.3654 - val_loss: 1.0017 - val_accuracy: 0.3712\n",
            "Epoch 309/500\n",
            "111/111 [==============================] - 2s 14ms/step - loss: 1.0017 - accuracy: 0.3649 - val_loss: 1.0017 - val_accuracy: 0.3679\n",
            "Epoch 310/500\n",
            "111/111 [==============================] - 2s 15ms/step - loss: 1.0017 - accuracy: 0.3669 - val_loss: 1.0017 - val_accuracy: 0.3760\n",
            "Epoch 311/500\n",
            "111/111 [==============================] - 2s 14ms/step - loss: 1.0016 - accuracy: 0.3672 - val_loss: 1.0017 - val_accuracy: 0.3793\n",
            "Epoch 312/500\n",
            "111/111 [==============================] - 2s 15ms/step - loss: 1.0017 - accuracy: 0.3532 - val_loss: 1.0019 - val_accuracy: 0.3339\n",
            "Epoch 313/500\n",
            "111/111 [==============================] - 2s 15ms/step - loss: 1.0019 - accuracy: 0.3252 - val_loss: 1.0018 - val_accuracy: 0.3517\n",
            "Epoch 314/500\n",
            "111/111 [==============================] - 2s 15ms/step - loss: 1.0019 - accuracy: 0.3350 - val_loss: 1.0018 - val_accuracy: 0.3582\n",
            "Epoch 315/500\n",
            "111/111 [==============================] - 2s 14ms/step - loss: 1.0019 - accuracy: 0.3371 - val_loss: 1.0018 - val_accuracy: 0.3566\n",
            "Epoch 316/500\n",
            "111/111 [==============================] - 2s 14ms/step - loss: 1.0019 - accuracy: 0.3337 - val_loss: 1.0019 - val_accuracy: 0.3436\n",
            "Epoch 317/500\n",
            "111/111 [==============================] - 2s 14ms/step - loss: 1.0018 - accuracy: 0.3438 - val_loss: 1.0017 - val_accuracy: 0.3663\n",
            "Epoch 318/500\n",
            "111/111 [==============================] - 2s 14ms/step - loss: 1.0018 - accuracy: 0.3431 - val_loss: 1.0017 - val_accuracy: 0.3695\n",
            "Epoch 319/500\n",
            "111/111 [==============================] - 2s 14ms/step - loss: 1.0017 - accuracy: 0.3499 - val_loss: 1.0016 - val_accuracy: 0.3744\n",
            "Epoch 320/500\n",
            "111/111 [==============================] - 2s 14ms/step - loss: 1.0017 - accuracy: 0.3685 - val_loss: 1.0016 - val_accuracy: 0.3987\n",
            "Epoch 321/500\n",
            "111/111 [==============================] - 2s 14ms/step - loss: 1.0016 - accuracy: 0.3788 - val_loss: 1.0016 - val_accuracy: 0.3971\n",
            "Epoch 322/500\n",
            "111/111 [==============================] - 2s 14ms/step - loss: 1.0016 - accuracy: 0.3802 - val_loss: 1.0016 - val_accuracy: 0.3955\n",
            "Epoch 323/500\n",
            "111/111 [==============================] - 2s 14ms/step - loss: 1.0016 - accuracy: 0.3797 - val_loss: 1.0016 - val_accuracy: 0.3857\n",
            "Epoch 324/500\n",
            "111/111 [==============================] - 2s 14ms/step - loss: 1.0016 - accuracy: 0.3790 - val_loss: 1.0016 - val_accuracy: 0.3938\n",
            "Epoch 325/500\n",
            "111/111 [==============================] - 2s 14ms/step - loss: 1.0016 - accuracy: 0.3703 - val_loss: 1.0017 - val_accuracy: 0.3744\n",
            "Epoch 326/500\n",
            "111/111 [==============================] - 2s 14ms/step - loss: 1.0016 - accuracy: 0.3701 - val_loss: 1.0016 - val_accuracy: 0.3955\n",
            "Epoch 327/500\n",
            "111/111 [==============================] - 2s 14ms/step - loss: 1.0016 - accuracy: 0.3791 - val_loss: 1.0016 - val_accuracy: 0.3874\n",
            "Epoch 328/500\n",
            "111/111 [==============================] - 2s 14ms/step - loss: 1.0016 - accuracy: 0.3770 - val_loss: 1.0016 - val_accuracy: 0.3890\n",
            "Epoch 329/500\n",
            "111/111 [==============================] - 2s 15ms/step - loss: 1.0016 - accuracy: 0.3779 - val_loss: 1.0016 - val_accuracy: 0.3825\n",
            "Epoch 330/500\n",
            "111/111 [==============================] - 2s 14ms/step - loss: 1.0016 - accuracy: 0.3745 - val_loss: 1.0017 - val_accuracy: 0.3809\n",
            "Epoch 331/500\n",
            "111/111 [==============================] - 2s 14ms/step - loss: 1.0017 - accuracy: 0.3672 - val_loss: 1.0017 - val_accuracy: 0.3744\n",
            "Epoch 332/500\n",
            "111/111 [==============================] - 2s 14ms/step - loss: 1.0016 - accuracy: 0.3671 - val_loss: 1.0016 - val_accuracy: 0.3776\n",
            "Epoch 333/500\n",
            "111/111 [==============================] - 2s 14ms/step - loss: 1.0017 - accuracy: 0.3647 - val_loss: 1.0017 - val_accuracy: 0.3712\n",
            "Epoch 334/500\n",
            "111/111 [==============================] - 2s 14ms/step - loss: 1.0016 - accuracy: 0.3662 - val_loss: 1.0016 - val_accuracy: 0.3760\n",
            "Epoch 335/500\n",
            "111/111 [==============================] - 2s 14ms/step - loss: 1.0017 - accuracy: 0.3629 - val_loss: 1.0017 - val_accuracy: 0.3809\n",
            "Epoch 336/500\n",
            "111/111 [==============================] - 2s 14ms/step - loss: 1.0017 - accuracy: 0.3660 - val_loss: 1.0016 - val_accuracy: 0.3760\n",
            "Epoch 337/500\n",
            "111/111 [==============================] - 2s 14ms/step - loss: 1.0016 - accuracy: 0.3718 - val_loss: 1.0015 - val_accuracy: 0.3955\n",
            "Epoch 338/500\n",
            "111/111 [==============================] - 2s 14ms/step - loss: 1.0016 - accuracy: 0.3745 - val_loss: 1.0016 - val_accuracy: 0.3890\n",
            "Epoch 339/500\n",
            "111/111 [==============================] - 2s 14ms/step - loss: 1.0016 - accuracy: 0.3799 - val_loss: 1.0016 - val_accuracy: 0.3955\n",
            "Epoch 340/500\n",
            "111/111 [==============================] - 2s 14ms/step - loss: 1.0016 - accuracy: 0.3806 - val_loss: 1.0015 - val_accuracy: 0.3971\n",
            "Epoch 341/500\n",
            "111/111 [==============================] - 2s 15ms/step - loss: 1.0016 - accuracy: 0.3802 - val_loss: 1.0016 - val_accuracy: 0.3938\n",
            "Epoch 342/500\n",
            "111/111 [==============================] - 2s 14ms/step - loss: 1.0016 - accuracy: 0.3734 - val_loss: 1.0016 - val_accuracy: 0.3922\n",
            "Epoch 343/500\n",
            "111/111 [==============================] - 2s 14ms/step - loss: 1.0016 - accuracy: 0.3791 - val_loss: 1.0017 - val_accuracy: 0.3776\n",
            "Epoch 344/500\n",
            "111/111 [==============================] - 2s 15ms/step - loss: 1.0016 - accuracy: 0.3718 - val_loss: 1.0017 - val_accuracy: 0.3647\n",
            "Epoch 345/500\n",
            "111/111 [==============================] - 2s 15ms/step - loss: 1.0017 - accuracy: 0.3653 - val_loss: 1.0017 - val_accuracy: 0.3647\n",
            "Epoch 346/500\n",
            "111/111 [==============================] - 2s 14ms/step - loss: 1.0017 - accuracy: 0.3644 - val_loss: 1.0017 - val_accuracy: 0.3614\n",
            "Epoch 347/500\n",
            "111/111 [==============================] - 2s 14ms/step - loss: 1.0017 - accuracy: 0.3640 - val_loss: 1.0017 - val_accuracy: 0.3695\n",
            "Epoch 348/500\n",
            "111/111 [==============================] - 2s 14ms/step - loss: 1.0017 - accuracy: 0.3654 - val_loss: 1.0017 - val_accuracy: 0.3679\n",
            "Epoch 349/500\n",
            "111/111 [==============================] - 2s 14ms/step - loss: 1.0017 - accuracy: 0.3642 - val_loss: 1.0018 - val_accuracy: 0.3614\n",
            "Epoch 350/500\n",
            "111/111 [==============================] - 2s 14ms/step - loss: 1.0017 - accuracy: 0.3644 - val_loss: 1.0017 - val_accuracy: 0.3695\n",
            "Epoch 351/500\n",
            "111/111 [==============================] - 2s 14ms/step - loss: 1.0017 - accuracy: 0.3653 - val_loss: 1.0017 - val_accuracy: 0.3679\n",
            "Epoch 352/500\n",
            "111/111 [==============================] - 2s 14ms/step - loss: 1.0016 - accuracy: 0.3658 - val_loss: 1.0017 - val_accuracy: 0.3728\n",
            "Epoch 353/500\n",
            "111/111 [==============================] - 2s 15ms/step - loss: 1.0017 - accuracy: 0.3672 - val_loss: 1.0017 - val_accuracy: 0.3712\n",
            "Epoch 354/500\n",
            "111/111 [==============================] - 2s 14ms/step - loss: 1.0017 - accuracy: 0.3550 - val_loss: 1.0018 - val_accuracy: 0.3485\n",
            "Epoch 355/500\n",
            "111/111 [==============================] - 2s 14ms/step - loss: 1.0018 - accuracy: 0.3516 - val_loss: 1.0017 - val_accuracy: 0.3695\n",
            "Epoch 356/500\n",
            "111/111 [==============================] - 2s 15ms/step - loss: 1.0017 - accuracy: 0.3591 - val_loss: 1.0017 - val_accuracy: 0.3663\n",
            "Epoch 357/500\n",
            "111/111 [==============================] - 2s 14ms/step - loss: 1.0017 - accuracy: 0.3638 - val_loss: 1.0018 - val_accuracy: 0.3647\n",
            "Epoch 358/500\n",
            "111/111 [==============================] - 2s 14ms/step - loss: 1.0017 - accuracy: 0.3624 - val_loss: 1.0017 - val_accuracy: 0.3712\n",
            "Epoch 359/500\n",
            "111/111 [==============================] - 2s 14ms/step - loss: 1.0017 - accuracy: 0.3618 - val_loss: 1.0018 - val_accuracy: 0.3566\n",
            "Epoch 360/500\n",
            "111/111 [==============================] - 2s 15ms/step - loss: 1.0017 - accuracy: 0.3636 - val_loss: 1.0018 - val_accuracy: 0.3614\n",
            "Epoch 361/500\n",
            "111/111 [==============================] - 2s 14ms/step - loss: 1.0018 - accuracy: 0.3521 - val_loss: 1.0019 - val_accuracy: 0.3501\n",
            "Epoch 362/500\n",
            "111/111 [==============================] - 2s 15ms/step - loss: 1.0017 - accuracy: 0.3535 - val_loss: 1.0018 - val_accuracy: 0.3517\n",
            "Epoch 363/500\n",
            "111/111 [==============================] - 2s 14ms/step - loss: 1.0017 - accuracy: 0.3544 - val_loss: 1.0018 - val_accuracy: 0.3485\n",
            "Epoch 364/500\n",
            "111/111 [==============================] - 2s 14ms/step - loss: 1.0019 - accuracy: 0.3364 - val_loss: 1.0020 - val_accuracy: 0.3274\n",
            "Epoch 365/500\n",
            "111/111 [==============================] - 2s 14ms/step - loss: 1.0019 - accuracy: 0.3231 - val_loss: 1.0020 - val_accuracy: 0.3274\n",
            "Epoch 366/500\n",
            "111/111 [==============================] - 2s 14ms/step - loss: 1.0020 - accuracy: 0.3185 - val_loss: 1.0021 - val_accuracy: 0.3274\n",
            "Epoch 367/500\n",
            "111/111 [==============================] - 2s 14ms/step - loss: 1.0020 - accuracy: 0.3207 - val_loss: 1.0020 - val_accuracy: 0.3274\n",
            "Epoch 368/500\n",
            "111/111 [==============================] - 2s 14ms/step - loss: 1.0019 - accuracy: 0.3227 - val_loss: 1.0020 - val_accuracy: 0.3193\n",
            "Epoch 369/500\n",
            "111/111 [==============================] - 2s 15ms/step - loss: 1.0019 - accuracy: 0.3288 - val_loss: 1.0019 - val_accuracy: 0.3517\n",
            "Epoch 370/500\n",
            "111/111 [==============================] - 2s 14ms/step - loss: 1.0019 - accuracy: 0.3364 - val_loss: 1.0018 - val_accuracy: 0.3517\n",
            "Epoch 371/500\n",
            "111/111 [==============================] - 2s 14ms/step - loss: 1.0019 - accuracy: 0.3332 - val_loss: 1.0019 - val_accuracy: 0.3420\n",
            "Epoch 372/500\n",
            "111/111 [==============================] - 2s 14ms/step - loss: 1.0018 - accuracy: 0.3391 - val_loss: 1.0017 - val_accuracy: 0.3663\n",
            "Epoch 373/500\n",
            "111/111 [==============================] - 2s 14ms/step - loss: 1.0016 - accuracy: 0.3672 - val_loss: 1.0017 - val_accuracy: 0.3679\n",
            "Epoch 374/500\n",
            "111/111 [==============================] - 2s 14ms/step - loss: 1.0017 - accuracy: 0.3564 - val_loss: 1.0018 - val_accuracy: 0.3582\n",
            "Epoch 375/500\n",
            "111/111 [==============================] - 2s 14ms/step - loss: 1.0018 - accuracy: 0.3514 - val_loss: 1.0018 - val_accuracy: 0.3485\n",
            "Epoch 376/500\n",
            "111/111 [==============================] - 2s 14ms/step - loss: 1.0017 - accuracy: 0.3517 - val_loss: 1.0018 - val_accuracy: 0.3533\n",
            "Epoch 377/500\n",
            "111/111 [==============================] - 2s 14ms/step - loss: 1.0017 - accuracy: 0.3530 - val_loss: 1.0017 - val_accuracy: 0.3582\n",
            "Epoch 378/500\n",
            "111/111 [==============================] - 2s 15ms/step - loss: 1.0017 - accuracy: 0.3615 - val_loss: 1.0017 - val_accuracy: 0.3647\n",
            "Epoch 379/500\n",
            "111/111 [==============================] - 2s 14ms/step - loss: 1.0017 - accuracy: 0.3609 - val_loss: 1.0017 - val_accuracy: 0.3647\n",
            "Epoch 380/500\n",
            "111/111 [==============================] - 2s 14ms/step - loss: 1.0017 - accuracy: 0.3568 - val_loss: 1.0018 - val_accuracy: 0.3452\n",
            "Epoch 381/500\n",
            "111/111 [==============================] - 2s 14ms/step - loss: 1.0018 - accuracy: 0.3454 - val_loss: 1.0019 - val_accuracy: 0.3420\n",
            "Epoch 382/500\n",
            "111/111 [==============================] - 2s 14ms/step - loss: 1.0018 - accuracy: 0.3415 - val_loss: 1.0018 - val_accuracy: 0.3501\n",
            "Epoch 383/500\n",
            "111/111 [==============================] - 2s 14ms/step - loss: 1.0018 - accuracy: 0.3429 - val_loss: 1.0018 - val_accuracy: 0.3533\n",
            "Epoch 384/500\n",
            "111/111 [==============================] - 2s 14ms/step - loss: 1.0017 - accuracy: 0.3550 - val_loss: 1.0017 - val_accuracy: 0.3533\n",
            "Epoch 385/500\n",
            "111/111 [==============================] - 2s 15ms/step - loss: 1.0017 - accuracy: 0.3543 - val_loss: 1.0017 - val_accuracy: 0.3566\n",
            "Epoch 386/500\n",
            "111/111 [==============================] - 2s 15ms/step - loss: 1.0018 - accuracy: 0.3420 - val_loss: 1.0019 - val_accuracy: 0.3452\n",
            "Epoch 387/500\n",
            "111/111 [==============================] - 2s 15ms/step - loss: 1.0018 - accuracy: 0.3393 - val_loss: 1.0018 - val_accuracy: 0.3566\n",
            "Epoch 388/500\n",
            "111/111 [==============================] - 2s 15ms/step - loss: 1.0018 - accuracy: 0.3404 - val_loss: 1.0019 - val_accuracy: 0.3306\n",
            "Epoch 389/500\n",
            "111/111 [==============================] - 2s 14ms/step - loss: 1.0017 - accuracy: 0.3604 - val_loss: 1.0017 - val_accuracy: 0.3647\n",
            "Epoch 390/500\n",
            "111/111 [==============================] - 2s 14ms/step - loss: 1.0016 - accuracy: 0.3669 - val_loss: 1.0017 - val_accuracy: 0.3679\n",
            "Epoch 391/500\n",
            "111/111 [==============================] - 2s 14ms/step - loss: 1.0017 - accuracy: 0.3575 - val_loss: 1.0017 - val_accuracy: 0.3663\n",
            "Epoch 392/500\n",
            "111/111 [==============================] - 2s 14ms/step - loss: 1.0016 - accuracy: 0.3653 - val_loss: 1.0017 - val_accuracy: 0.3728\n",
            "Epoch 393/500\n",
            "111/111 [==============================] - 2s 14ms/step - loss: 1.0016 - accuracy: 0.3671 - val_loss: 1.0018 - val_accuracy: 0.3549\n",
            "Epoch 394/500\n",
            "111/111 [==============================] - 2s 14ms/step - loss: 1.0016 - accuracy: 0.3647 - val_loss: 1.0017 - val_accuracy: 0.3679\n",
            "Epoch 395/500\n",
            "111/111 [==============================] - 2s 14ms/step - loss: 1.0016 - accuracy: 0.3732 - val_loss: 1.0016 - val_accuracy: 0.3922\n",
            "Epoch 396/500\n",
            "111/111 [==============================] - 2s 14ms/step - loss: 1.0017 - accuracy: 0.3701 - val_loss: 1.0019 - val_accuracy: 0.3533\n",
            "Epoch 397/500\n",
            "111/111 [==============================] - 2s 14ms/step - loss: 1.0017 - accuracy: 0.3622 - val_loss: 1.0017 - val_accuracy: 0.3630\n",
            "Epoch 398/500\n",
            "111/111 [==============================] - 2s 14ms/step - loss: 1.0017 - accuracy: 0.3649 - val_loss: 1.0017 - val_accuracy: 0.3679\n",
            "Epoch 399/500\n",
            "111/111 [==============================] - 2s 14ms/step - loss: 1.0017 - accuracy: 0.3656 - val_loss: 1.0017 - val_accuracy: 0.3663\n",
            "Epoch 400/500\n",
            "111/111 [==============================] - 2s 14ms/step - loss: 1.0016 - accuracy: 0.3654 - val_loss: 1.0017 - val_accuracy: 0.3630\n",
            "Epoch 401/500\n",
            "111/111 [==============================] - 2s 14ms/step - loss: 1.0016 - accuracy: 0.3638 - val_loss: 1.0017 - val_accuracy: 0.3712\n",
            "Epoch 402/500\n",
            "111/111 [==============================] - 2s 15ms/step - loss: 1.0017 - accuracy: 0.3649 - val_loss: 1.0017 - val_accuracy: 0.3728\n",
            "Epoch 403/500\n",
            "111/111 [==============================] - 2s 14ms/step - loss: 1.0016 - accuracy: 0.3642 - val_loss: 1.0016 - val_accuracy: 0.3728\n",
            "Epoch 404/500\n",
            "111/111 [==============================] - 2s 14ms/step - loss: 1.0016 - accuracy: 0.3669 - val_loss: 1.0017 - val_accuracy: 0.3728\n",
            "Epoch 405/500\n",
            "111/111 [==============================] - 2s 14ms/step - loss: 1.0016 - accuracy: 0.3719 - val_loss: 1.0017 - val_accuracy: 0.3695\n",
            "Epoch 406/500\n",
            "111/111 [==============================] - 2s 14ms/step - loss: 1.0017 - accuracy: 0.3658 - val_loss: 1.0017 - val_accuracy: 0.3695\n",
            "Epoch 407/500\n",
            "111/111 [==============================] - 2s 14ms/step - loss: 1.0016 - accuracy: 0.3736 - val_loss: 1.0016 - val_accuracy: 0.3857\n",
            "Epoch 408/500\n",
            "111/111 [==============================] - 2s 14ms/step - loss: 1.0016 - accuracy: 0.3791 - val_loss: 1.0016 - val_accuracy: 0.3938\n",
            "Epoch 409/500\n",
            "111/111 [==============================] - 2s 14ms/step - loss: 1.0016 - accuracy: 0.3810 - val_loss: 1.0015 - val_accuracy: 0.3938\n",
            "Epoch 410/500\n",
            "111/111 [==============================] - 2s 14ms/step - loss: 1.0016 - accuracy: 0.3833 - val_loss: 1.0016 - val_accuracy: 0.3971\n",
            "Epoch 411/500\n",
            "111/111 [==============================] - 2s 14ms/step - loss: 1.0016 - accuracy: 0.3819 - val_loss: 1.0016 - val_accuracy: 0.3906\n",
            "Epoch 412/500\n",
            "111/111 [==============================] - 2s 14ms/step - loss: 1.0016 - accuracy: 0.3810 - val_loss: 1.0016 - val_accuracy: 0.3971\n",
            "Epoch 413/500\n",
            "111/111 [==============================] - 2s 14ms/step - loss: 1.0017 - accuracy: 0.3550 - val_loss: 1.0018 - val_accuracy: 0.3647\n",
            "Epoch 414/500\n",
            "111/111 [==============================] - 2s 14ms/step - loss: 1.0017 - accuracy: 0.3519 - val_loss: 1.0018 - val_accuracy: 0.3485\n",
            "Epoch 415/500\n",
            "111/111 [==============================] - 2s 14ms/step - loss: 1.0018 - accuracy: 0.3481 - val_loss: 1.0019 - val_accuracy: 0.3355\n",
            "Epoch 416/500\n",
            "111/111 [==============================] - 2s 14ms/step - loss: 1.0019 - accuracy: 0.3369 - val_loss: 1.0017 - val_accuracy: 0.3776\n",
            "Epoch 417/500\n",
            "111/111 [==============================] - 2s 14ms/step - loss: 1.0017 - accuracy: 0.3698 - val_loss: 1.0017 - val_accuracy: 0.3809\n",
            "Epoch 418/500\n",
            "111/111 [==============================] - 2s 14ms/step - loss: 1.0017 - accuracy: 0.3703 - val_loss: 1.0016 - val_accuracy: 0.3809\n",
            "Epoch 419/500\n",
            "111/111 [==============================] - 2s 14ms/step - loss: 1.0016 - accuracy: 0.3707 - val_loss: 1.0016 - val_accuracy: 0.3809\n",
            "Epoch 420/500\n",
            "111/111 [==============================] - 2s 14ms/step - loss: 1.0016 - accuracy: 0.3701 - val_loss: 1.0017 - val_accuracy: 0.3760\n",
            "Epoch 421/500\n",
            "111/111 [==============================] - 2s 14ms/step - loss: 1.0017 - accuracy: 0.3656 - val_loss: 1.0018 - val_accuracy: 0.3647\n",
            "Epoch 422/500\n",
            "111/111 [==============================] - 2s 14ms/step - loss: 1.0018 - accuracy: 0.3532 - val_loss: 1.0018 - val_accuracy: 0.3630\n",
            "Epoch 423/500\n",
            "111/111 [==============================] - 2s 14ms/step - loss: 1.0017 - accuracy: 0.3537 - val_loss: 1.0017 - val_accuracy: 0.3598\n",
            "Epoch 424/500\n",
            "111/111 [==============================] - 2s 14ms/step - loss: 1.0017 - accuracy: 0.3555 - val_loss: 1.0017 - val_accuracy: 0.3695\n",
            "Epoch 425/500\n",
            "111/111 [==============================] - 2s 14ms/step - loss: 1.0017 - accuracy: 0.3709 - val_loss: 1.0018 - val_accuracy: 0.3598\n",
            "Epoch 426/500\n",
            "111/111 [==============================] - 2s 14ms/step - loss: 1.0018 - accuracy: 0.3528 - val_loss: 1.0018 - val_accuracy: 0.3533\n",
            "Epoch 427/500\n",
            "111/111 [==============================] - 2s 14ms/step - loss: 1.0018 - accuracy: 0.3481 - val_loss: 1.0019 - val_accuracy: 0.3404\n",
            "Epoch 428/500\n",
            "111/111 [==============================] - 2s 14ms/step - loss: 1.0018 - accuracy: 0.3490 - val_loss: 1.0020 - val_accuracy: 0.3387\n",
            "Epoch 429/500\n",
            "111/111 [==============================] - 2s 15ms/step - loss: 1.0018 - accuracy: 0.3431 - val_loss: 1.0018 - val_accuracy: 0.3614\n",
            "Epoch 430/500\n",
            "111/111 [==============================] - 2s 14ms/step - loss: 1.0019 - accuracy: 0.3317 - val_loss: 1.0019 - val_accuracy: 0.3306\n",
            "Epoch 431/500\n",
            "111/111 [==============================] - 2s 15ms/step - loss: 1.0019 - accuracy: 0.3324 - val_loss: 1.0018 - val_accuracy: 0.3468\n",
            "Epoch 432/500\n",
            "111/111 [==============================] - 2s 14ms/step - loss: 1.0017 - accuracy: 0.3488 - val_loss: 1.0017 - val_accuracy: 0.3679\n",
            "Epoch 433/500\n",
            "111/111 [==============================] - 2s 14ms/step - loss: 1.0017 - accuracy: 0.3546 - val_loss: 1.0017 - val_accuracy: 0.3712\n",
            "Epoch 434/500\n",
            "111/111 [==============================] - 2s 14ms/step - loss: 1.0017 - accuracy: 0.3550 - val_loss: 1.0017 - val_accuracy: 0.3728\n",
            "Epoch 435/500\n",
            "111/111 [==============================] - 2s 15ms/step - loss: 1.0019 - accuracy: 0.3398 - val_loss: 1.0019 - val_accuracy: 0.3452\n",
            "Epoch 436/500\n",
            "111/111 [==============================] - 2s 14ms/step - loss: 1.0018 - accuracy: 0.3517 - val_loss: 1.0019 - val_accuracy: 0.3485\n",
            "Epoch 437/500\n",
            "111/111 [==============================] - 2s 14ms/step - loss: 1.0018 - accuracy: 0.3532 - val_loss: 1.0018 - val_accuracy: 0.3517\n",
            "Epoch 438/500\n",
            "111/111 [==============================] - 2s 14ms/step - loss: 1.0017 - accuracy: 0.3537 - val_loss: 1.0018 - val_accuracy: 0.3501\n",
            "Epoch 439/500\n",
            "111/111 [==============================] - 2s 14ms/step - loss: 1.0017 - accuracy: 0.3517 - val_loss: 1.0018 - val_accuracy: 0.3501\n",
            "Epoch 440/500\n",
            "111/111 [==============================] - 2s 14ms/step - loss: 1.0017 - accuracy: 0.3525 - val_loss: 1.0018 - val_accuracy: 0.3468\n",
            "Epoch 441/500\n",
            "111/111 [==============================] - 2s 14ms/step - loss: 1.0018 - accuracy: 0.3497 - val_loss: 1.0019 - val_accuracy: 0.3485\n",
            "Epoch 442/500\n",
            "111/111 [==============================] - 2s 14ms/step - loss: 1.0018 - accuracy: 0.3506 - val_loss: 1.0018 - val_accuracy: 0.3501\n",
            "Epoch 443/500\n",
            "111/111 [==============================] - 2s 15ms/step - loss: 1.0017 - accuracy: 0.3532 - val_loss: 1.0018 - val_accuracy: 0.3501\n",
            "Epoch 444/500\n",
            "111/111 [==============================] - 2s 14ms/step - loss: 1.0017 - accuracy: 0.3532 - val_loss: 1.0018 - val_accuracy: 0.3485\n",
            "Epoch 445/500\n",
            "111/111 [==============================] - 2s 15ms/step - loss: 1.0017 - accuracy: 0.3517 - val_loss: 1.0018 - val_accuracy: 0.3501\n",
            "Epoch 446/500\n",
            "111/111 [==============================] - 2s 15ms/step - loss: 1.0018 - accuracy: 0.3445 - val_loss: 1.0018 - val_accuracy: 0.3549\n",
            "Epoch 447/500\n",
            "111/111 [==============================] - 2s 14ms/step - loss: 1.0017 - accuracy: 0.3530 - val_loss: 1.0019 - val_accuracy: 0.3306\n",
            "Epoch 448/500\n",
            "111/111 [==============================] - 2s 15ms/step - loss: 1.0018 - accuracy: 0.3387 - val_loss: 1.0019 - val_accuracy: 0.3339\n",
            "Epoch 449/500\n",
            "111/111 [==============================] - 2s 15ms/step - loss: 1.0019 - accuracy: 0.3267 - val_loss: 1.0020 - val_accuracy: 0.3144\n",
            "Epoch 450/500\n",
            "111/111 [==============================] - 2s 15ms/step - loss: 1.0020 - accuracy: 0.3149 - val_loss: 1.0019 - val_accuracy: 0.3371\n",
            "Epoch 451/500\n",
            "111/111 [==============================] - 2s 14ms/step - loss: 1.0019 - accuracy: 0.3268 - val_loss: 1.0018 - val_accuracy: 0.3533\n",
            "Epoch 452/500\n",
            "111/111 [==============================] - 2s 15ms/step - loss: 1.0019 - accuracy: 0.3393 - val_loss: 1.0020 - val_accuracy: 0.3323\n",
            "Epoch 453/500\n",
            "111/111 [==============================] - 2s 15ms/step - loss: 1.0020 - accuracy: 0.3243 - val_loss: 1.0019 - val_accuracy: 0.3339\n",
            "Epoch 454/500\n",
            "111/111 [==============================] - 2s 14ms/step - loss: 1.0019 - accuracy: 0.3279 - val_loss: 1.0019 - val_accuracy: 0.3404\n",
            "Epoch 455/500\n",
            "111/111 [==============================] - 2s 15ms/step - loss: 1.0020 - accuracy: 0.3240 - val_loss: 1.0020 - val_accuracy: 0.3258\n",
            "Epoch 456/500\n",
            "111/111 [==============================] - 2s 15ms/step - loss: 1.0021 - accuracy: 0.3021 - val_loss: 1.0021 - val_accuracy: 0.2982\n",
            "Epoch 457/500\n",
            "111/111 [==============================] - 2s 15ms/step - loss: 1.0020 - accuracy: 0.3099 - val_loss: 1.0019 - val_accuracy: 0.3290\n",
            "Epoch 458/500\n",
            "111/111 [==============================] - 2s 14ms/step - loss: 1.0019 - accuracy: 0.3216 - val_loss: 1.0019 - val_accuracy: 0.3339\n",
            "Epoch 459/500\n",
            "111/111 [==============================] - 2s 14ms/step - loss: 1.0019 - accuracy: 0.3229 - val_loss: 1.0019 - val_accuracy: 0.3323\n",
            "Epoch 460/500\n",
            "111/111 [==============================] - 2s 15ms/step - loss: 1.0020 - accuracy: 0.3158 - val_loss: 1.0022 - val_accuracy: 0.2934\n",
            "Epoch 461/500\n",
            "111/111 [==============================] - 2s 15ms/step - loss: 1.0020 - accuracy: 0.3243 - val_loss: 1.0021 - val_accuracy: 0.3079\n",
            "Epoch 462/500\n",
            "111/111 [==============================] - 2s 15ms/step - loss: 1.0019 - accuracy: 0.3350 - val_loss: 1.0019 - val_accuracy: 0.3290\n",
            "Epoch 463/500\n",
            "111/111 [==============================] - 2s 15ms/step - loss: 1.0018 - accuracy: 0.3398 - val_loss: 1.0020 - val_accuracy: 0.3241\n",
            "Epoch 464/500\n",
            "111/111 [==============================] - 2s 15ms/step - loss: 1.0018 - accuracy: 0.3512 - val_loss: 1.0018 - val_accuracy: 0.3549\n",
            "Epoch 465/500\n",
            "111/111 [==============================] - 2s 14ms/step - loss: 1.0018 - accuracy: 0.3488 - val_loss: 1.0020 - val_accuracy: 0.3306\n",
            "Epoch 466/500\n",
            "111/111 [==============================] - 2s 15ms/step - loss: 1.0019 - accuracy: 0.3371 - val_loss: 1.0019 - val_accuracy: 0.3371\n",
            "Epoch 467/500\n",
            "111/111 [==============================] - 2s 15ms/step - loss: 1.0019 - accuracy: 0.3286 - val_loss: 1.0021 - val_accuracy: 0.3177\n",
            "Epoch 468/500\n",
            "111/111 [==============================] - 2s 15ms/step - loss: 1.0021 - accuracy: 0.3088 - val_loss: 1.0022 - val_accuracy: 0.2885\n",
            "Epoch 469/500\n",
            "111/111 [==============================] - 2s 15ms/step - loss: 1.0022 - accuracy: 0.2828 - val_loss: 1.0023 - val_accuracy: 0.2739\n",
            "Epoch 470/500\n",
            "111/111 [==============================] - 2s 15ms/step - loss: 1.0021 - accuracy: 0.2908 - val_loss: 1.0021 - val_accuracy: 0.2869\n",
            "Epoch 471/500\n",
            "111/111 [==============================] - 2s 15ms/step - loss: 1.0019 - accuracy: 0.3286 - val_loss: 1.0020 - val_accuracy: 0.3274\n",
            "Epoch 472/500\n",
            "111/111 [==============================] - 2s 15ms/step - loss: 1.0018 - accuracy: 0.3404 - val_loss: 1.0020 - val_accuracy: 0.3209\n",
            "Epoch 473/500\n",
            "111/111 [==============================] - 2s 15ms/step - loss: 1.0019 - accuracy: 0.3355 - val_loss: 1.0020 - val_accuracy: 0.3160\n",
            "Epoch 474/500\n",
            "111/111 [==============================] - 2s 15ms/step - loss: 1.0019 - accuracy: 0.3279 - val_loss: 1.0020 - val_accuracy: 0.3193\n",
            "Epoch 475/500\n",
            "111/111 [==============================] - 2s 15ms/step - loss: 1.0018 - accuracy: 0.3328 - val_loss: 1.0019 - val_accuracy: 0.3339\n",
            "Epoch 476/500\n",
            "111/111 [==============================] - 2s 15ms/step - loss: 1.0018 - accuracy: 0.3404 - val_loss: 1.0019 - val_accuracy: 0.3290\n",
            "Epoch 477/500\n",
            "111/111 [==============================] - 2s 15ms/step - loss: 1.0017 - accuracy: 0.3442 - val_loss: 1.0019 - val_accuracy: 0.3306\n",
            "Epoch 478/500\n",
            "111/111 [==============================] - 2s 15ms/step - loss: 1.0018 - accuracy: 0.3474 - val_loss: 1.0019 - val_accuracy: 0.3387\n",
            "Epoch 479/500\n",
            "111/111 [==============================] - 2s 15ms/step - loss: 1.0018 - accuracy: 0.3438 - val_loss: 1.0018 - val_accuracy: 0.3485\n",
            "Epoch 480/500\n",
            "111/111 [==============================] - 2s 15ms/step - loss: 1.0017 - accuracy: 0.3539 - val_loss: 1.0018 - val_accuracy: 0.3582\n",
            "Epoch 481/500\n",
            "111/111 [==============================] - 2s 15ms/step - loss: 1.0017 - accuracy: 0.3525 - val_loss: 1.0019 - val_accuracy: 0.3387\n",
            "Epoch 482/500\n",
            "111/111 [==============================] - 2s 14ms/step - loss: 1.0018 - accuracy: 0.3424 - val_loss: 1.0019 - val_accuracy: 0.3371\n",
            "Epoch 483/500\n",
            "111/111 [==============================] - 2s 14ms/step - loss: 1.0017 - accuracy: 0.3534 - val_loss: 1.0017 - val_accuracy: 0.3549\n",
            "Epoch 484/500\n",
            "111/111 [==============================] - 2s 14ms/step - loss: 1.0017 - accuracy: 0.3559 - val_loss: 1.0017 - val_accuracy: 0.3598\n",
            "Epoch 485/500\n",
            "111/111 [==============================] - 2s 15ms/step - loss: 1.0018 - accuracy: 0.3472 - val_loss: 1.0019 - val_accuracy: 0.3387\n",
            "Epoch 486/500\n",
            "111/111 [==============================] - 2s 14ms/step - loss: 1.0017 - accuracy: 0.3519 - val_loss: 1.0018 - val_accuracy: 0.3533\n",
            "Epoch 487/500\n",
            "111/111 [==============================] - 2s 15ms/step - loss: 1.0017 - accuracy: 0.3555 - val_loss: 1.0019 - val_accuracy: 0.3339\n",
            "Epoch 488/500\n",
            "111/111 [==============================] - 2s 14ms/step - loss: 1.0018 - accuracy: 0.3407 - val_loss: 1.0020 - val_accuracy: 0.3193\n",
            "Epoch 489/500\n",
            "111/111 [==============================] - 2s 15ms/step - loss: 1.0018 - accuracy: 0.3413 - val_loss: 1.0019 - val_accuracy: 0.3306\n",
            "Epoch 490/500\n",
            "111/111 [==============================] - 2s 15ms/step - loss: 1.0019 - accuracy: 0.3355 - val_loss: 1.0020 - val_accuracy: 0.3258\n",
            "Epoch 491/500\n",
            "111/111 [==============================] - 2s 14ms/step - loss: 1.0017 - accuracy: 0.3532 - val_loss: 1.0017 - val_accuracy: 0.3549\n",
            "Epoch 492/500\n",
            "111/111 [==============================] - 2s 15ms/step - loss: 1.0017 - accuracy: 0.3521 - val_loss: 1.0018 - val_accuracy: 0.3549\n",
            "Epoch 493/500\n",
            "111/111 [==============================] - 2s 15ms/step - loss: 1.0017 - accuracy: 0.3561 - val_loss: 1.0017 - val_accuracy: 0.3549\n",
            "Epoch 494/500\n",
            "111/111 [==============================] - 2s 15ms/step - loss: 1.0017 - accuracy: 0.3564 - val_loss: 1.0017 - val_accuracy: 0.3598\n",
            "Epoch 495/500\n",
            "111/111 [==============================] - 2s 15ms/step - loss: 1.0017 - accuracy: 0.3568 - val_loss: 1.0017 - val_accuracy: 0.3566\n",
            "Epoch 496/500\n",
            "111/111 [==============================] - 2s 15ms/step - loss: 1.0017 - accuracy: 0.3552 - val_loss: 1.0017 - val_accuracy: 0.3566\n",
            "Epoch 497/500\n",
            "111/111 [==============================] - 2s 14ms/step - loss: 1.0017 - accuracy: 0.3559 - val_loss: 1.0017 - val_accuracy: 0.3566\n",
            "Epoch 498/500\n",
            "111/111 [==============================] - 2s 15ms/step - loss: 1.0017 - accuracy: 0.3534 - val_loss: 1.0017 - val_accuracy: 0.3598\n",
            "Epoch 499/500\n",
            "111/111 [==============================] - 2s 15ms/step - loss: 1.0017 - accuracy: 0.3553 - val_loss: 1.0017 - val_accuracy: 0.3598\n",
            "Epoch 500/500\n",
            "111/111 [==============================] - 2s 15ms/step - loss: 1.0017 - accuracy: 0.3564 - val_loss: 1.0017 - val_accuracy: 0.3566\n"
          ]
        }
      ]
    },
    {
      "cell_type": "code",
      "source": [
        "model2.evaluate(\n",
        "    x=X_test,\n",
        "    y=y_test,\n",
        "    batch_size=None,\n",
        "    verbose=1,\n",
        "    sample_weight=None,\n",
        "    steps=None,\n",
        "    callbacks=None,\n",
        "    max_queue_size=10,\n",
        "    workers=1,\n",
        "    use_multiprocessing=False,\n",
        "    return_dict=False,\n",
        "    #**kwargs\n",
        ")"
      ],
      "metadata": {
        "colab": {
          "base_uri": "https://localhost:8080/"
        },
        "id": "f3RbEAtgK8AC",
        "outputId": "61eaffc1-74f8-4284-bde4-23d8384366ea"
      },
      "execution_count": 100,
      "outputs": [
        {
          "output_type": "stream",
          "name": "stdout",
          "text": [
            "49/49 [==============================] - 0s 6ms/step - loss: 1.0018 - accuracy: 0.3355\n"
          ]
        },
        {
          "output_type": "execute_result",
          "data": {
            "text/plain": [
              "[1.001829981803894, 0.3354964256286621]"
            ]
          },
          "metadata": {},
          "execution_count": 100
        }
      ]
    },
    {
      "cell_type": "markdown",
      "source": [
        "## With Data Agumentation"
      ],
      "metadata": {
        "id": "R_GfnAWnaBmD"
      }
    },
    {
      "cell_type": "markdown",
      "source": [
        "### Data Augumentation\n"
      ],
      "metadata": {
        "id": "Mp0i3emlF43_"
      }
    },
    {
      "cell_type": "code",
      "source": [
        "from keras.preprocessing.image import ImageDataGenerator\n",
        "aug = ImageDataGenerator(\n",
        "\t\trotation_range=20,\n",
        "\t\tzoom_range=0.15,\n",
        "\t\twidth_shift_range=0.2,\n",
        "\t\theight_shift_range=0.2,\n",
        "\t\tshear_range=0.15,\n",
        "\t\thorizontal_flip=True,\n",
        "\t\tfill_mode=\"nearest\")"
      ],
      "metadata": {
        "id": "LcNTs9w287v6"
      },
      "execution_count": 52,
      "outputs": []
    },
    {
      "cell_type": "code",
      "source": [
        "x=aug.flow(X_train, y_train, batch_size=50)"
      ],
      "metadata": {
        "id": "5_TW1pdEyQMa"
      },
      "execution_count": 53,
      "outputs": []
    },
    {
      "cell_type": "markdown",
      "source": [
        "### CNN"
      ],
      "metadata": {
        "id": "tebyCRQLGo12"
      }
    },
    {
      "cell_type": "code",
      "source": [
        "model4 = Sequential()\n",
        "\n",
        "model4.add(Conv2D(64,(3,3),input_shape = (32,32,3),activation = 'relu'))\n",
        "model4.add(MaxPooling2D(pool_size=(2,2)))\n",
        "\n",
        "model4.add(Conv2D(128,(3,3),activation = 'relu'))\n",
        "model4.add(MaxPooling2D(pool_size=(2,2)))\n",
        "model4.add(Dropout(0.2))\n",
        "\n",
        "model4.add(Flatten())\n",
        "model4.add(Dense(1024,activation='relu'))\n",
        "model4.add(Dense(602, activation='softmax'))\n",
        "model4.compile(loss='categorical_crossentropy', optimizer='adam', metrics=['acc'])"
      ],
      "metadata": {
        "id": "uI-DsduT-uxO"
      },
      "execution_count": 54,
      "outputs": []
    },
    {
      "cell_type": "code",
      "source": [
        "model4.summary()"
      ],
      "metadata": {
        "colab": {
          "base_uri": "https://localhost:8080/"
        },
        "id": "ClRvfuEJ9BoB",
        "outputId": "af87c0ad-9366-4e3b-dc97-16132201dcfc"
      },
      "execution_count": 55,
      "outputs": [
        {
          "output_type": "stream",
          "name": "stdout",
          "text": [
            "Model: \"sequential_1\"\n",
            "_________________________________________________________________\n",
            "Layer (type)                 Output Shape              Param #   \n",
            "=================================================================\n",
            "conv2d (Conv2D)              (None, 30, 30, 64)        1792      \n",
            "_________________________________________________________________\n",
            "max_pooling2d (MaxPooling2D) (None, 15, 15, 64)        0         \n",
            "_________________________________________________________________\n",
            "conv2d_1 (Conv2D)            (None, 13, 13, 128)       73856     \n",
            "_________________________________________________________________\n",
            "max_pooling2d_1 (MaxPooling2 (None, 6, 6, 128)         0         \n",
            "_________________________________________________________________\n",
            "dropout_2 (Dropout)          (None, 6, 6, 128)         0         \n",
            "_________________________________________________________________\n",
            "flatten_1 (Flatten)          (None, 4608)              0         \n",
            "_________________________________________________________________\n",
            "dense_3 (Dense)              (None, 1024)              4719616   \n",
            "_________________________________________________________________\n",
            "dense_4 (Dense)              (None, 602)               617050    \n",
            "=================================================================\n",
            "Total params: 5,412,314\n",
            "Trainable params: 5,412,314\n",
            "Non-trainable params: 0\n",
            "_________________________________________________________________\n"
          ]
        }
      ]
    },
    {
      "cell_type": "code",
      "source": [
        "history4=model4.fit(x,steps_per_epoch=len(X_train) // 20, epochs=50, validation_split=None,validation_data=(X_val,y_val)) \n",
        "# Increase the epochs for better training not more than epochs =75 as it undergoes overfitting"
      ],
      "metadata": {
        "colab": {
          "base_uri": "https://localhost:8080/"
        },
        "id": "wLa3l-wQ9Ecq",
        "outputId": "661f36bc-bf82-4e6d-8c59-56947a95119c"
      },
      "execution_count": 56,
      "outputs": [
        {
          "output_type": "stream",
          "name": "stdout",
          "text": [
            "Epoch 1/50\n",
            "277/277 [==============================] - 13s 44ms/step - loss: 5.1714 - acc: 0.0453 - val_loss: 5.0653 - val_acc: 0.0859\n",
            "Epoch 2/50\n",
            "277/277 [==============================] - 12s 43ms/step - loss: 4.5752 - acc: 0.1225 - val_loss: 4.0006 - val_acc: 0.2512\n",
            "Epoch 3/50\n",
            "277/277 [==============================] - 12s 43ms/step - loss: 3.8111 - acc: 0.2293 - val_loss: 3.3574 - val_acc: 0.4036\n",
            "Epoch 4/50\n",
            "277/277 [==============================] - 12s 43ms/step - loss: 3.2302 - acc: 0.3183 - val_loss: 2.8354 - val_acc: 0.5203\n",
            "Epoch 5/50\n",
            "277/277 [==============================] - 12s 43ms/step - loss: 2.7865 - acc: 0.3976 - val_loss: 2.5241 - val_acc: 0.5851\n",
            "Epoch 6/50\n",
            "277/277 [==============================] - 12s 43ms/step - loss: 2.4644 - acc: 0.4571 - val_loss: 2.3998 - val_acc: 0.6386\n",
            "Epoch 7/50\n",
            "277/277 [==============================] - 12s 43ms/step - loss: 2.2160 - acc: 0.5110 - val_loss: 2.3260 - val_acc: 0.6580\n",
            "Epoch 8/50\n",
            "277/277 [==============================] - 12s 43ms/step - loss: 2.0441 - acc: 0.5375 - val_loss: 2.2582 - val_acc: 0.6856\n",
            "Epoch 9/50\n",
            "277/277 [==============================] - 12s 43ms/step - loss: 1.8847 - acc: 0.5680 - val_loss: 2.1647 - val_acc: 0.7293\n",
            "Epoch 10/50\n",
            "277/277 [==============================] - 12s 44ms/step - loss: 1.7945 - acc: 0.5826 - val_loss: 2.0944 - val_acc: 0.7504\n",
            "Epoch 11/50\n",
            "277/277 [==============================] - 12s 44ms/step - loss: 1.6886 - acc: 0.6080 - val_loss: 2.2347 - val_acc: 0.7180\n",
            "Epoch 12/50\n",
            "277/277 [==============================] - 12s 44ms/step - loss: 1.5825 - acc: 0.6281 - val_loss: 2.0580 - val_acc: 0.7844\n",
            "Epoch 13/50\n",
            "277/277 [==============================] - 12s 43ms/step - loss: 1.4992 - acc: 0.6438 - val_loss: 2.0881 - val_acc: 0.7731\n",
            "Epoch 14/50\n",
            "277/277 [==============================] - 12s 43ms/step - loss: 1.4157 - acc: 0.6578 - val_loss: 2.0773 - val_acc: 0.7909\n",
            "Epoch 15/50\n",
            "277/277 [==============================] - 12s 44ms/step - loss: 1.3620 - acc: 0.6699 - val_loss: 1.9937 - val_acc: 0.8088\n",
            "Epoch 16/50\n",
            "277/277 [==============================] - 12s 43ms/step - loss: 1.2945 - acc: 0.6825 - val_loss: 1.9913 - val_acc: 0.7763\n",
            "Epoch 17/50\n",
            "277/277 [==============================] - 12s 43ms/step - loss: 1.2448 - acc: 0.6930 - val_loss: 2.0472 - val_acc: 0.7877\n",
            "Epoch 18/50\n",
            "277/277 [==============================] - 12s 43ms/step - loss: 1.2056 - acc: 0.7028 - val_loss: 1.9587 - val_acc: 0.8088\n",
            "Epoch 19/50\n",
            "277/277 [==============================] - 12s 43ms/step - loss: 1.1677 - acc: 0.7048 - val_loss: 2.1680 - val_acc: 0.7715\n",
            "Epoch 20/50\n",
            "277/277 [==============================] - 12s 44ms/step - loss: 1.1304 - acc: 0.7148 - val_loss: 2.0213 - val_acc: 0.8185\n",
            "Epoch 21/50\n",
            "277/277 [==============================] - 12s 43ms/step - loss: 1.1062 - acc: 0.7212 - val_loss: 1.9205 - val_acc: 0.8379\n",
            "Epoch 22/50\n",
            "277/277 [==============================] - 12s 44ms/step - loss: 1.0640 - acc: 0.7353 - val_loss: 1.9766 - val_acc: 0.8266\n",
            "Epoch 23/50\n",
            "277/277 [==============================] - 12s 44ms/step - loss: 1.0304 - acc: 0.7386 - val_loss: 2.0267 - val_acc: 0.8363\n",
            "Epoch 24/50\n",
            "277/277 [==============================] - 12s 44ms/step - loss: 1.0137 - acc: 0.7448 - val_loss: 1.8954 - val_acc: 0.8266\n",
            "Epoch 25/50\n",
            "277/277 [==============================] - 12s 44ms/step - loss: 0.9762 - acc: 0.7517 - val_loss: 2.1073 - val_acc: 0.8201\n",
            "Epoch 26/50\n",
            "277/277 [==============================] - 12s 45ms/step - loss: 0.9883 - acc: 0.7469 - val_loss: 1.8868 - val_acc: 0.8331\n",
            "Epoch 27/50\n",
            "277/277 [==============================] - 12s 45ms/step - loss: 0.9135 - acc: 0.7682 - val_loss: 2.1775 - val_acc: 0.8185\n",
            "Epoch 28/50\n",
            "277/277 [==============================] - 12s 45ms/step - loss: 0.9101 - acc: 0.7668 - val_loss: 2.1066 - val_acc: 0.8282\n",
            "Epoch 29/50\n",
            "277/277 [==============================] - 13s 45ms/step - loss: 0.8998 - acc: 0.7662 - val_loss: 1.9150 - val_acc: 0.8266\n",
            "Epoch 30/50\n",
            "277/277 [==============================] - 13s 46ms/step - loss: 0.8672 - acc: 0.7768 - val_loss: 2.1438 - val_acc: 0.8201\n",
            "Epoch 31/50\n",
            "277/277 [==============================] - 13s 45ms/step - loss: 0.8709 - acc: 0.7746 - val_loss: 1.9769 - val_acc: 0.8347\n",
            "Epoch 32/50\n",
            "277/277 [==============================] - 13s 45ms/step - loss: 0.8469 - acc: 0.7809 - val_loss: 2.0712 - val_acc: 0.8347\n",
            "Epoch 33/50\n",
            "277/277 [==============================] - 12s 45ms/step - loss: 0.8206 - acc: 0.7880 - val_loss: 2.1003 - val_acc: 0.8379\n",
            "Epoch 34/50\n",
            "277/277 [==============================] - 12s 45ms/step - loss: 0.8070 - acc: 0.7909 - val_loss: 2.0853 - val_acc: 0.8282\n",
            "Epoch 35/50\n",
            "277/277 [==============================] - 12s 45ms/step - loss: 0.8066 - acc: 0.7865 - val_loss: 2.0671 - val_acc: 0.8363\n",
            "Epoch 36/50\n",
            "277/277 [==============================] - 12s 45ms/step - loss: 0.8069 - acc: 0.7866 - val_loss: 2.1280 - val_acc: 0.8152\n",
            "Epoch 37/50\n",
            "277/277 [==============================] - 12s 45ms/step - loss: 0.7645 - acc: 0.7954 - val_loss: 2.0258 - val_acc: 0.8444\n",
            "Epoch 38/50\n",
            "277/277 [==============================] - 12s 45ms/step - loss: 0.7638 - acc: 0.7962 - val_loss: 2.1830 - val_acc: 0.8428\n",
            "Epoch 39/50\n",
            "277/277 [==============================] - 13s 45ms/step - loss: 0.7611 - acc: 0.7992 - val_loss: 2.2974 - val_acc: 0.8250\n",
            "Epoch 40/50\n",
            "277/277 [==============================] - 12s 45ms/step - loss: 0.7268 - acc: 0.8086 - val_loss: 2.2649 - val_acc: 0.8217\n",
            "Epoch 41/50\n",
            "277/277 [==============================] - 12s 45ms/step - loss: 0.7282 - acc: 0.8106 - val_loss: 1.9760 - val_acc: 0.8655\n",
            "Epoch 42/50\n",
            "277/277 [==============================] - 12s 45ms/step - loss: 0.7099 - acc: 0.8073 - val_loss: 2.1476 - val_acc: 0.8363\n",
            "Epoch 43/50\n",
            "277/277 [==============================] - 12s 45ms/step - loss: 0.7151 - acc: 0.8097 - val_loss: 2.2722 - val_acc: 0.8185\n",
            "Epoch 44/50\n",
            "277/277 [==============================] - 12s 44ms/step - loss: 0.7114 - acc: 0.8057 - val_loss: 2.0892 - val_acc: 0.8379\n",
            "Epoch 45/50\n",
            "277/277 [==============================] - 12s 45ms/step - loss: 0.6834 - acc: 0.8140 - val_loss: 2.2811 - val_acc: 0.8395\n",
            "Epoch 46/50\n",
            "277/277 [==============================] - 12s 45ms/step - loss: 0.6805 - acc: 0.8192 - val_loss: 2.2559 - val_acc: 0.8314\n",
            "Epoch 47/50\n",
            "277/277 [==============================] - 12s 44ms/step - loss: 0.6861 - acc: 0.8134 - val_loss: 2.1183 - val_acc: 0.8444\n",
            "Epoch 48/50\n",
            "277/277 [==============================] - 12s 45ms/step - loss: 0.6650 - acc: 0.8217 - val_loss: 2.1304 - val_acc: 0.8363\n",
            "Epoch 49/50\n",
            "277/277 [==============================] - 12s 45ms/step - loss: 0.6512 - acc: 0.8232 - val_loss: 2.3207 - val_acc: 0.8233\n",
            "Epoch 50/50\n",
            "277/277 [==============================] - 12s 44ms/step - loss: 0.6419 - acc: 0.8214 - val_loss: 2.2355 - val_acc: 0.8363\n"
          ]
        }
      ]
    },
    {
      "cell_type": "code",
      "source": [
        "model4.evaluate(\n",
        "    x=X_test,\n",
        "    y=y_test,\n",
        "    batch_size=None,\n",
        "    verbose=1,\n",
        "    sample_weight=None,\n",
        "    steps=None,\n",
        "    callbacks=None,\n",
        "    max_queue_size=10,\n",
        "    workers=1,\n",
        "    use_multiprocessing=False,\n",
        "    return_dict=False,\n",
        "    #**kwargs\n",
        ")"
      ],
      "metadata": {
        "colab": {
          "base_uri": "https://localhost:8080/"
        },
        "id": "8Q2P86e1-UZt",
        "outputId": "cf642359-db92-48c0-86bb-b32dd76a57e8"
      },
      "execution_count": 57,
      "outputs": [
        {
          "output_type": "stream",
          "name": "stdout",
          "text": [
            "49/49 [==============================] - 0s 6ms/step - loss: 2.2261 - acc: 0.8319\n"
          ]
        },
        {
          "output_type": "execute_result",
          "data": {
            "text/plain": [
              "[2.226138114929199, 0.8319272994995117]"
            ]
          },
          "metadata": {},
          "execution_count": 57
        }
      ]
    },
    {
      "cell_type": "markdown",
      "source": [
        "**Among all the above mentioned method CNN (with data augmentation) performs better and avoids overfitting**"
      ],
      "metadata": {
        "id": "Jtd9eoKZUZmA"
      }
    },
    {
      "cell_type": "markdown",
      "source": [
        "## Plots"
      ],
      "metadata": {
        "id": "Tp6B4cb0GuBX"
      }
    },
    {
      "cell_type": "code",
      "source": [
        "#Plot of Model accuracy\n",
        "plt.plot(history4.history['acc'])\n",
        "plt.plot(history4.history['val_acc'])\n",
        "plt.title('Model accuracy')\n",
        "plt.ylabel('Accuracy')\n",
        "plt.xlabel('Epoch')\n",
        "plt.legend(['Train', 'Test'])\n",
        "plt.show()"
      ],
      "metadata": {
        "colab": {
          "base_uri": "https://localhost:8080/",
          "height": 295
        },
        "id": "1EPTqigU-WTn",
        "outputId": "9e372497-b5e6-4666-f084-2325052f2a8f"
      },
      "execution_count": 58,
      "outputs": [
        {
          "output_type": "display_data",
          "data": {
            "image/png": "[encoded data removed]",
            "text/plain": [
              "<Figure size 432x288 with 1 Axes>"
            ]
          },
          "metadata": {
            "needs_background": "light"
          }
        }
      ]
    },
    {
      "cell_type": "code",
      "source": [
        "# Plot training & validation loss values\n",
        "plt.plot(history4.history['loss'])\n",
        "plt.plot(history4.history['val_loss'])\n",
        "plt.title('Model loss')\n",
        "plt.ylabel('Loss')\n",
        "plt.xlabel('Epoch')\n",
        "plt.legend(['Train', 'Test'], loc='upper right')\n",
        "plt.show()"
      ],
      "metadata": {
        "colab": {
          "base_uri": "https://localhost:8080/",
          "height": 295
        },
        "id": "vnjrLnp8-hFT",
        "outputId": "c2fa2d36-1f1f-41b7-8289-ea1faeab18c2"
      },
      "execution_count": 59,
      "outputs": [
        {
          "output_type": "display_data",
          "data": {
            "image/png": "[encoded data removed]",
            "text/plain": [
              "<Figure size 432x288 with 1 Axes>"
            ]
          },
          "metadata": {
            "needs_background": "light"
          }
        }
      ]
    },
    {
      "cell_type": "markdown",
      "source": [
        "#Problem Statement B"
      ],
      "metadata": {
        "id": "fPsEkuEu_Goe"
      }
    },
    {
      "cell_type": "markdown",
      "source": [
        "The Problem Statement B is Image retreival. My approach for this probelm is as follows:\n",
        "- **Feature Extraction**( Extract the features like texture, color, shape etc), for this I have used auto encoder and CNN (defined in problem Statement A, one can use pretrained models like VGG16, VGG19, RESNET) but one can differnet methods to extarct a feature dependind on type of feature. \n",
        "- **Evaluation**:  After extracting the features from the trained images and query images, calculate the similarity by using metrics like eudledian distance, cosine similarity, manhattan distance etc. In this problem I have used eucledian distance but it can be changed.\n",
        "\n",
        "**In my view, for this problem the best solution depends on feature extraction.**"
      ],
      "metadata": {
        "id": "TySwUatsSYrJ"
      }
    },
    {
      "cell_type": "markdown",
      "source": [
        "## Using Auto encoders to extract feature"
      ],
      "metadata": {
        "id": "suaqKzPiHZZw"
      }
    },
    {
      "cell_type": "code",
      "source": [
        "from tensorflow.keras.models import save_model\n",
        "import tensorflow.keras.layers as L"
      ],
      "metadata": {
        "id": "fcOWbtRsBbHU"
      },
      "execution_count": 30,
      "outputs": []
    },
    {
      "cell_type": "code",
      "source": [
        "def build_deep_autoencoder(img_shape, code_size):\n",
        "    H,W,C = img_shape\n",
        "    \n",
        "    # encoder\n",
        "    encoder = tf.keras.models.Sequential()\n",
        "    encoder.add(L.InputLayer(img_shape))\n",
        "    \n",
        "    ### YOUR CODE HERE: define encoder as per instructions above ###\n",
        "    encoder.add(L.Conv2D(filters=32, kernel_size=(3, 3), activation='elu', padding='same'))\n",
        "    encoder.add(L.MaxPooling2D(pool_size=(2, 2)))\n",
        "    encoder.add(L.Conv2D(filters=64, kernel_size=(3, 3), activation='elu', padding='same'))\n",
        "    encoder.add(L.MaxPooling2D(pool_size=(2, 2)))\n",
        "    encoder.add(L.Conv2D(filters=128, kernel_size=(3, 3), activation='elu', padding='same'))\n",
        "    encoder.add(L.MaxPooling2D(pool_size=(2, 2)))\n",
        "    encoder.add(L.Conv2D(filters=256, kernel_size=(3, 3), activation='elu', padding='same'))\n",
        "    encoder.add(L.MaxPooling2D(pool_size=(2, 2)))\n",
        "    encoder.add(L.Flatten())\n",
        "    encoder.add(L.Dense(code_size))\n",
        "\n",
        "    # decoder\n",
        "    decoder = tf.keras.models.Sequential()\n",
        "    decoder.add(L.InputLayer((code_size,)))\n",
        "    \n",
        "    ### YOUR CODE HERE: define decoder as per instructions above ###\n",
        "    decoder.add(L.Dense(2*2*256))\n",
        "    decoder.add(L.Reshape((2, 2, 256)))\n",
        "    decoder.add(L.Conv2DTranspose(filters=128, kernel_size=(3, 3), strides=2, activation='elu', padding='same'))\n",
        "    decoder.add(L.Conv2DTranspose(filters=64, kernel_size=(3, 3), strides=2, activation='elu', padding='same'))\n",
        "    decoder.add(L.Conv2DTranspose(filters=32, kernel_size=(3, 3), strides=2, activation='elu', padding='same'))\n",
        "    decoder.add(L.Conv2DTranspose(filters=3, kernel_size=(3, 3), strides=2, activation=None, padding='same'))\n",
        "    \n",
        "    return encoder, decoder"
      ],
      "metadata": {
        "id": "MCdP2OsxBm41"
      },
      "execution_count": 31,
      "outputs": []
    },
    {
      "cell_type": "code",
      "source": [
        "# Check autoencoder shapes along different code_sizes\n",
        "IMG_SHAPE=(32,32,3)\n",
        "get_dim = lambda layer: np.prod(layer.output_shape[1:])\n",
        "for code_size in [1,8,32,128,512]:\n",
        "    tf.keras.backend.clear_session()\n",
        "    encoder, decoder = build_deep_autoencoder(IMG_SHAPE, code_size=code_size)\n",
        "    print(\"Testing code size %i\" % code_size)\n",
        "    assert encoder.output_shape[1:]==(code_size,),\"encoder must output a code of required size\"\n",
        "    assert decoder.output_shape[1:]==IMG_SHAPE,   \"decoder must output an image of valid shape\"\n",
        "    assert len(encoder.trainable_weights)>=6,     \"encoder must contain at least 3 layers\"\n",
        "    assert len(decoder.trainable_weights)>=6,     \"decoder must contain at least 3 layers\"\n",
        "    \n",
        "    for layer in encoder.layers + decoder.layers:\n",
        "        assert get_dim(layer) >= code_size, \"Encoder layer %s is smaller than bottleneck (%i units)\"%(layer.name,get_dim(layer))\n",
        "\n",
        "print(\"All tests passed!\")"
      ],
      "metadata": {
        "colab": {
          "base_uri": "https://localhost:8080/"
        },
        "id": "nPpz6CisB1id",
        "outputId": "667ec2f7-0100-45fc-a5d6-00567982387e"
      },
      "execution_count": 32,
      "outputs": [
        {
          "output_type": "stream",
          "name": "stdout",
          "text": [
            "Testing code size 1\n",
            "Testing code size 8\n",
            "Testing code size 32\n",
            "Testing code size 128\n",
            "Testing code size 512\n",
            "All tests passed!\n"
          ]
        }
      ]
    },
    {
      "cell_type": "code",
      "source": [
        "tf.keras.backend.clear_session()\n",
        "encoder, decoder = build_deep_autoencoder(IMG_SHAPE, code_size=32)\n",
        "encoder.summary()\n",
        "decoder.summary()"
      ],
      "metadata": {
        "colab": {
          "base_uri": "https://localhost:8080/"
        },
        "id": "zaj-xsKuCVHK",
        "outputId": "4931ef08-26c3-4553-c07a-51a81be7aba9"
      },
      "execution_count": 33,
      "outputs": [
        {
          "output_type": "stream",
          "name": "stdout",
          "text": [
            "Model: \"sequential\"\n",
            "_________________________________________________________________\n",
            " Layer (type)                Output Shape              Param #   \n",
            "=================================================================\n",
            " conv2d (Conv2D)             (None, 32, 32, 32)        896       \n",
            "                                                                 \n",
            " max_pooling2d (MaxPooling2D  (None, 16, 16, 32)       0         \n",
            " )                                                               \n",
            "                                                                 \n",
            " conv2d_1 (Conv2D)           (None, 16, 16, 64)        18496     \n",
            "                                                                 \n",
            " max_pooling2d_1 (MaxPooling  (None, 8, 8, 64)         0         \n",
            " 2D)                                                             \n",
            "                                                                 \n",
            " conv2d_2 (Conv2D)           (None, 8, 8, 128)         73856     \n",
            "                                                                 \n",
            " max_pooling2d_2 (MaxPooling  (None, 4, 4, 128)        0         \n",
            " 2D)                                                             \n",
            "                                                                 \n",
            " conv2d_3 (Conv2D)           (None, 4, 4, 256)         295168    \n",
            "                                                                 \n",
            " max_pooling2d_3 (MaxPooling  (None, 2, 2, 256)        0         \n",
            " 2D)                                                             \n",
            "                                                                 \n",
            " flatten (Flatten)           (None, 1024)              0         \n",
            "                                                                 \n",
            " dense (Dense)               (None, 32)                32800     \n",
            "                                                                 \n",
            "=================================================================\n",
            "Total params: 421,216\n",
            "Trainable params: 421,216\n",
            "Non-trainable params: 0\n",
            "_________________________________________________________________\n",
            "Model: \"sequential_1\"\n",
            "_________________________________________________________________\n",
            " Layer (type)                Output Shape              Param #   \n",
            "=================================================================\n",
            " dense_1 (Dense)             (None, 1024)              33792     \n",
            "                                                                 \n",
            " reshape (Reshape)           (None, 2, 2, 256)         0         \n",
            "                                                                 \n",
            " conv2d_transpose (Conv2DTra  (None, 4, 4, 128)        295040    \n",
            " nspose)                                                         \n",
            "                                                                 \n",
            " conv2d_transpose_1 (Conv2DT  (None, 8, 8, 64)         73792     \n",
            " ranspose)                                                       \n",
            "                                                                 \n",
            " conv2d_transpose_2 (Conv2DT  (None, 16, 16, 32)       18464     \n",
            " ranspose)                                                       \n",
            "                                                                 \n",
            " conv2d_transpose_3 (Conv2DT  (None, 32, 32, 3)        867       \n",
            " ranspose)                                                       \n",
            "                                                                 \n",
            "=================================================================\n",
            "Total params: 421,955\n",
            "Trainable params: 421,955\n",
            "Non-trainable params: 0\n",
            "_________________________________________________________________\n"
          ]
        }
      ]
    },
    {
      "cell_type": "code",
      "source": [
        "inp = L.Input(IMG_SHAPE)\n",
        "code = encoder(inp)\n",
        "reconstruction = decoder(code)"
      ],
      "metadata": {
        "id": "BUdLrXlvCb20"
      },
      "execution_count": 34,
      "outputs": []
    },
    {
      "cell_type": "code",
      "source": [
        "autoencoder = tf.keras.models.Model(inputs=inp, outputs=reconstruction)\n",
        "autoencoder.compile(optimizer=\"adamax\", loss='mse')"
      ],
      "metadata": {
        "id": "nfIF6B5MC8u9"
      },
      "execution_count": 35,
      "outputs": []
    },
    {
      "cell_type": "code",
      "source": [
        "# we will save model checkpoints here to continue training in case of kernel death\n",
        "model_filename = 'autoencoder.{0:03d}.hdf5'\n",
        "last_finished_epoch = None"
      ],
      "metadata": {
        "id": "wGkhskaRCjsq"
      },
      "execution_count": 36,
      "outputs": []
    },
    {
      "cell_type": "code",
      "source": [
        "#Saving the model\n",
        "class ModelSaveCallback(tf.keras.callbacks.Callback):\n",
        "    def __init__(self, file_name):\n",
        "        super(ModelSaveCallback, self).__init__()\n",
        "        self.file_name = file_name\n",
        "\n",
        "    def on_epoch_end(self, epoch, logs=None):\n",
        "        model_filename = self.file_name.format(epoch)\n",
        "        save_model(self.model, model_filename)\n",
        "        print(\"Model saved in {}\".format(model_filename))\n",
        "\n"
      ],
      "metadata": {
        "id": "gzaqWG4HCrPG"
      },
      "execution_count": 37,
      "outputs": []
    },
    {
      "cell_type": "code",
      "source": [
        "#Training the auto encoder\n",
        "autoencoder.fit(x=X_train, y=X_train, epochs=25,\n",
        "                validation_data=[X_test, X_test],\n",
        "                callbacks=[ModelSaveCallback(model_filename)],\n",
        "                           #keras_utils.TqdmProgressCallback()],\n",
        "                verbose=1,\n",
        "                initial_epoch=last_finished_epoch or 0)"
      ],
      "metadata": {
        "colab": {
          "base_uri": "https://localhost:8080/"
        },
        "id": "oUR4Es0gCsfc",
        "outputId": "90eb9d2e-6dfa-409b-baf8-aacc30d3520d"
      },
      "execution_count": 38,
      "outputs": [
        {
          "output_type": "stream",
          "name": "stdout",
          "text": [
            "Epoch 1/25\n",
            "174/174 [==============================] - ETA: 0s - loss: 0.0616Model saved in autoencoder.000.hdf5\n",
            "174/174 [==============================] - 6s 27ms/step - loss: 0.0616 - val_loss: 0.0291\n",
            "Epoch 2/25\n",
            "173/174 [============================>.] - ETA: 0s - loss: 0.0248Model saved in autoencoder.001.hdf5\n",
            "174/174 [==============================] - 3s 19ms/step - loss: 0.0248 - val_loss: 0.0216\n",
            "Epoch 3/25\n",
            "171/174 [============================>.] - ETA: 0s - loss: 0.0192Model saved in autoencoder.002.hdf5\n",
            "174/174 [==============================] - 3s 17ms/step - loss: 0.0192 - val_loss: 0.0172\n",
            "Epoch 4/25\n",
            "174/174 [==============================] - ETA: 0s - loss: 0.0159Model saved in autoencoder.003.hdf5\n",
            "174/174 [==============================] - 3s 17ms/step - loss: 0.0159 - val_loss: 0.0148\n",
            "Epoch 5/25\n",
            "174/174 [==============================] - ETA: 0s - loss: 0.0135Model saved in autoencoder.004.hdf5\n",
            "174/174 [==============================] - 3s 17ms/step - loss: 0.0135 - val_loss: 0.0123\n",
            "Epoch 6/25\n",
            "171/174 [============================>.] - ETA: 0s - loss: 0.0114Model saved in autoencoder.005.hdf5\n",
            "174/174 [==============================] - 3s 17ms/step - loss: 0.0114 - val_loss: 0.0108\n",
            "Epoch 7/25\n",
            "173/174 [============================>.] - ETA: 0s - loss: 0.0101Model saved in autoencoder.006.hdf5\n",
            "174/174 [==============================] - 3s 17ms/step - loss: 0.0101 - val_loss: 0.0110\n",
            "Epoch 8/25\n",
            "174/174 [==============================] - ETA: 0s - loss: 0.0090Model saved in autoencoder.007.hdf5\n",
            "174/174 [==============================] - 3s 17ms/step - loss: 0.0090 - val_loss: 0.0086\n",
            "Epoch 9/25\n",
            "173/174 [============================>.] - ETA: 0s - loss: 0.0081Model saved in autoencoder.008.hdf5\n",
            "174/174 [==============================] - 3s 18ms/step - loss: 0.0081 - val_loss: 0.0078\n",
            "Epoch 10/25\n",
            "174/174 [==============================] - ETA: 0s - loss: 0.0075Model saved in autoencoder.009.hdf5\n",
            "174/174 [==============================] - 3s 18ms/step - loss: 0.0075 - val_loss: 0.0073\n",
            "Epoch 11/25\n",
            "174/174 [==============================] - ETA: 0s - loss: 0.0070Model saved in autoencoder.010.hdf5\n",
            "174/174 [==============================] - 3s 17ms/step - loss: 0.0070 - val_loss: 0.0070\n",
            "Epoch 12/25\n",
            "173/174 [============================>.] - ETA: 0s - loss: 0.0065Model saved in autoencoder.011.hdf5\n",
            "174/174 [==============================] - 4s 22ms/step - loss: 0.0065 - val_loss: 0.0067\n",
            "Epoch 13/25\n",
            "174/174 [==============================] - ETA: 0s - loss: 0.0062Model saved in autoencoder.012.hdf5\n",
            "174/174 [==============================] - 4s 25ms/step - loss: 0.0062 - val_loss: 0.0063\n",
            "Epoch 14/25\n",
            "172/174 [============================>.] - ETA: 0s - loss: 0.0058Model saved in autoencoder.013.hdf5\n",
            "174/174 [==============================] - 5s 28ms/step - loss: 0.0058 - val_loss: 0.0059\n",
            "Epoch 15/25\n",
            "174/174 [==============================] - ETA: 0s - loss: 0.0056Model saved in autoencoder.014.hdf5\n",
            "174/174 [==============================] - 3s 19ms/step - loss: 0.0056 - val_loss: 0.0056\n",
            "Epoch 16/25\n",
            "174/174 [==============================] - ETA: 0s - loss: 0.0054Model saved in autoencoder.015.hdf5\n",
            "174/174 [==============================] - 3s 18ms/step - loss: 0.0054 - val_loss: 0.0059\n",
            "Epoch 17/25\n",
            "171/174 [============================>.] - ETA: 0s - loss: 0.0052Model saved in autoencoder.016.hdf5\n",
            "174/174 [==============================] - 3s 17ms/step - loss: 0.0052 - val_loss: 0.0053\n",
            "Epoch 18/25\n",
            "172/174 [============================>.] - ETA: 0s - loss: 0.0050Model saved in autoencoder.017.hdf5\n",
            "174/174 [==============================] - 3s 17ms/step - loss: 0.0050 - val_loss: 0.0053\n",
            "Epoch 19/25\n",
            "171/174 [============================>.] - ETA: 0s - loss: 0.0048Model saved in autoencoder.018.hdf5\n",
            "174/174 [==============================] - 3s 17ms/step - loss: 0.0048 - val_loss: 0.0051\n",
            "Epoch 20/25\n",
            "172/174 [============================>.] - ETA: 0s - loss: 0.0047Model saved in autoencoder.019.hdf5\n",
            "174/174 [==============================] - 3s 17ms/step - loss: 0.0047 - val_loss: 0.0049\n",
            "Epoch 21/25\n",
            "171/174 [============================>.] - ETA: 0s - loss: 0.0046Model saved in autoencoder.020.hdf5\n",
            "174/174 [==============================] - 3s 17ms/step - loss: 0.0046 - val_loss: 0.0047\n",
            "Epoch 22/25\n",
            "172/174 [============================>.] - ETA: 0s - loss: 0.0044Model saved in autoencoder.021.hdf5\n",
            "174/174 [==============================] - 4s 22ms/step - loss: 0.0044 - val_loss: 0.0046\n",
            "Epoch 23/25\n",
            "173/174 [============================>.] - ETA: 0s - loss: 0.0044Model saved in autoencoder.022.hdf5\n",
            "174/174 [==============================] - 3s 17ms/step - loss: 0.0044 - val_loss: 0.0046\n",
            "Epoch 24/25\n",
            "171/174 [============================>.] - ETA: 0s - loss: 0.0043Model saved in autoencoder.023.hdf5\n",
            "174/174 [==============================] - 3s 17ms/step - loss: 0.0043 - val_loss: 0.0044\n",
            "Epoch 25/25\n",
            "173/174 [============================>.] - ETA: 0s - loss: 0.0041Model saved in autoencoder.024.hdf5\n",
            "174/174 [==============================] - 3s 17ms/step - loss: 0.0041 - val_loss: 0.0043\n"
          ]
        },
        {
          "output_type": "execute_result",
          "data": {
            "text/plain": [
              "<keras.callbacks.History at 0x7f0fbc193c10>"
            ]
          },
          "metadata": {},
          "execution_count": 38
        }
      ]
    },
    {
      "cell_type": "code",
      "source": [
        "images = X_test\n",
        "codes = encoder.predict(images) \n",
        "assert len(codes) == len(images)"
      ],
      "metadata": {
        "id": "w7gLiD9eDGIV"
      },
      "execution_count": 39,
      "outputs": []
    },
    {
      "cell_type": "markdown",
      "source": [
        "### Using Nearest Neighbours For Image retrieval"
      ],
      "metadata": {
        "id": "AcT-6vIyKcgv"
      }
    },
    {
      "cell_type": "code",
      "source": [
        "# using euclidean distance as metric\n",
        "from sklearn.neighbors import NearestNeighbors\n",
        "nei_clf = NearestNeighbors(metric=\"euclidean\") ## For image image similarity eucledean distance or manhattan distance can be used\n",
        "nei_clf.fit(codes)"
      ],
      "metadata": {
        "colab": {
          "base_uri": "https://localhost:8080/"
        },
        "id": "SCGA4vu4DKX5",
        "outputId": "211d0dde-06c0-427d-c610-285fb1d55b1f"
      },
      "execution_count": 40,
      "outputs": [
        {
          "output_type": "execute_result",
          "data": {
            "text/plain": [
              "NearestNeighbors(metric='euclidean')"
            ]
          },
          "metadata": {},
          "execution_count": 40
        }
      ]
    },
    {
      "cell_type": "code",
      "source": [
        "def get_similar(image, n_neighbors=5):\n",
        "    assert image.ndim==3,\"image must be [batch,height,width,3]\"\n",
        "\n",
        "    code = encoder.predict(image[None])\n",
        "    \n",
        "    (distances,),(idx,) = nei_clf.kneighbors(code,n_neighbors=n_neighbors)\n",
        "    \n",
        "    return distances,images[idx]"
      ],
      "metadata": {
        "id": "OJGIMV3gDNf8"
      },
      "execution_count": 41,
      "outputs": []
    },
    {
      "cell_type": "code",
      "source": [
        "def show_image(x):\n",
        "    plt.imshow(np.clip(x + 0.5, 0, 1))"
      ],
      "metadata": {
        "id": "EDJvyUJ9D3N8"
      },
      "execution_count": 42,
      "outputs": []
    },
    {
      "cell_type": "code",
      "source": [
        "def show_similar(image):    \n",
        "    distances,neighbors = get_similar(image,n_neighbors=3)\n",
        "    plt.figure(figsize=[8,7])\n",
        "    plt.subplot(1,4,1)\n",
        "    show_image(image)\n",
        "    plt.title(\"Original image\")\n",
        "    \n",
        "    for i in range(3):\n",
        "        plt.subplot(1,4,i+2)\n",
        "        show_image(neighbors[i])\n",
        "        plt.title(\"Dist=%.3f\"%distances[i])\n",
        "    plt.show()"
      ],
      "metadata": {
        "id": "rY03AruYDvfD"
      },
      "execution_count": 43,
      "outputs": []
    },
    {
      "cell_type": "code",
      "source": [
        "# Similar images\n",
        "show_similar(X_test[4])"
      ],
      "metadata": {
        "colab": {
          "base_uri": "https://localhost:8080/",
          "height": 161
        },
        "id": "GnqHyX8RD5u0",
        "outputId": "57208f57-6838-4698-8f55-316b6b78c433"
      },
      "execution_count": 44,
      "outputs": [
        {
          "output_type": "display_data",
          "data": {
            "image/png": "[encoded data removed]",
            "text/plain": [
              "<Figure size 576x504 with 4 Axes>"
            ]
          },
          "metadata": {
            "needs_background": "light"
          }
        }
      ]
    },
    {
      "cell_type": "code",
      "source": [
        ""
      ],
      "metadata": {
        "id": "lb-vpgUZ7FLp"
      },
      "execution_count": 44,
      "outputs": []
    },
    {
      "cell_type": "markdown",
      "source": [
        "## Using CNN trained in Probelm Statement A"
      ],
      "metadata": {
        "id": "-picmHCKQd2C"
      }
    },
    {
      "cell_type": "markdown",
      "source": [
        "### Using Nearest Neighbours For Image retrieval"
      ],
      "metadata": {
        "id": "S4nR5bcSQrbI"
      }
    },
    {
      "cell_type": "code",
      "source": [
        "images = X_train\n",
        "codes = model1.predict(images) \n",
        "assert len(codes) == len(images)"
      ],
      "metadata": {
        "id": "vShDox1RQrbJ"
      },
      "execution_count": 20,
      "outputs": []
    },
    {
      "cell_type": "code",
      "source": [
        "# using euclidean distance as metric\n",
        "from sklearn.neighbors import NearestNeighbors\n",
        "nei_clf = NearestNeighbors(metric=\"euclidean\") ## For image image similarity eucledean distance or manhattan distance can be used\n",
        "nei_clf.fit(codes)"
      ],
      "metadata": {
        "colab": {
          "base_uri": "https://localhost:8080/"
        },
        "outputId": "5e615f36-8915-490d-cb8f-62858aa0a483",
        "id": "5uLOXx6vQrbK"
      },
      "execution_count": 21,
      "outputs": [
        {
          "output_type": "execute_result",
          "data": {
            "text/plain": [
              "NearestNeighbors(metric='euclidean')"
            ]
          },
          "metadata": {},
          "execution_count": 21
        }
      ]
    },
    {
      "cell_type": "code",
      "source": [
        "def get_similar(image, n_neighbors=5):\n",
        "    assert image.ndim==3,\"image must be [batch,height,width,3]\"\n",
        "\n",
        "    code = model1.predict(image[None])\n",
        "    \n",
        "    (distances,),(idx,) = nei_clf.kneighbors(code,n_neighbors=n_neighbors)\n",
        "    \n",
        "    return distances,images[idx]"
      ],
      "metadata": {
        "id": "H8brR5unQrbN"
      },
      "execution_count": 26,
      "outputs": []
    },
    {
      "cell_type": "code",
      "source": [
        "def show_image(x):\n",
        "    plt.imshow(np.clip(x + 0.5, 0, 1))"
      ],
      "metadata": {
        "id": "t4Qch27iQrbP"
      },
      "execution_count": 27,
      "outputs": []
    },
    {
      "cell_type": "code",
      "source": [
        "def show_similar(image):    \n",
        "    distances,neighbors = get_similar(image,n_neighbors=3)\n",
        "    plt.figure(figsize=[8,7])\n",
        "    plt.subplot(1,4,1)\n",
        "    show_image(image)\n",
        "    plt.title(\"Original image\")\n",
        "    \n",
        "    for i in range(3):\n",
        "        plt.subplot(1,4,i+2)\n",
        "        show_image(neighbors[i])\n",
        "        plt.title(\"Dist=%.3f\"%distances[i])\n",
        "    plt.show()"
      ],
      "metadata": {
        "id": "drgOGmM6QrbQ"
      },
      "execution_count": 28,
      "outputs": []
    },
    {
      "cell_type": "code",
      "source": [
        "# Similar images\n",
        "show_similar(X_test[4])"
      ],
      "metadata": {
        "colab": {
          "base_uri": "https://localhost:8080/",
          "height": 161
        },
        "outputId": "220d46f3-161f-4d29-dd99-710a91e7f4a7",
        "id": "Ae8RCiQtQrbR"
      },
      "execution_count": 29,
      "outputs": [
        {
          "output_type": "display_data",
          "data": {
            "image/png": "[encoded data removed]",
            "text/plain": [
              "<Figure size 576x504 with 4 Axes>"
            ]
          },
          "metadata": {
            "needs_background": "light"
          }
        }
      ]
    }
  ]
}